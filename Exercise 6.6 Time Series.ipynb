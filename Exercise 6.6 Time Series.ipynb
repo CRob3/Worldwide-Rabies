{
 "cells": [
  {
   "cell_type": "markdown",
   "id": "4e6be094",
   "metadata": {},
   "source": [
    "## Time Series Analysis\n",
    "\n",
    "### 1.[Create datetime](#date)\n",
    "\n",
    "### 2.[Plot and Decompose Timeline](#plttime)\n",
    "\n",
    "### 3.[Dickey Fuller Test](#dftest)\n",
    "\n",
    "### 4.[Plot Autocorrelations](#pltauto)\n",
    "\n",
    "### 5.[Stationarize Data](#station)"
   ]
  },
  {
   "cell_type": "code",
   "execution_count": 1,
   "id": "13a907f9",
   "metadata": {},
   "outputs": [],
   "source": [
    "#Import libraries\n",
    "import pandas as pd\n",
    "import numpy as np\n",
    "import os\n",
    "import seaborn as sns\n",
    "import matplotlib\n",
    "import matplotlib.pyplot as plt\n",
    "import quandl\n",
    "import statsmodels.api as sm\n",
    "import warnings\n",
    "from datetime import datetime\n",
    "from statsmodels.tsa.stattools import adfuller\n",
    "from pylab import rcParams\n",
    "from statsmodels.graphics.tsaplots import plot_acf, plot_pacf"
   ]
  },
  {
   "cell_type": "code",
   "execution_count": 2,
   "id": "aaf6f19c",
   "metadata": {},
   "outputs": [],
   "source": [
    "warnings.filterwarnings('ignore')\n",
    "plt.style.use('fivethirtyeight')"
   ]
  },
  {
   "cell_type": "code",
   "execution_count": 3,
   "id": "63f38642",
   "metadata": {},
   "outputs": [],
   "source": [
    "%matplotlib inline"
   ]
  },
  {
   "cell_type": "code",
   "execution_count": 4,
   "id": "1d382631",
   "metadata": {},
   "outputs": [],
   "source": [
    "path = r\"C:\\Users\\corri\\Documents\\New Career\\Achievment 6\\Rabies Project\\Data\""
   ]
  },
  {
   "cell_type": "code",
   "execution_count": 5,
   "id": "5546cea0",
   "metadata": {},
   "outputs": [],
   "source": [
    "#Import data\n",
    "df_rabies = pd.read_csv(os.path.join(path, 'Prepared Data', 'Renamed_Total.csv'))"
   ]
  },
  {
   "cell_type": "code",
   "execution_count": 6,
   "id": "6fba53ea",
   "metadata": {},
   "outputs": [
    {
     "data": {
      "text/html": [
       "<div>\n",
       "<style scoped>\n",
       "    .dataframe tbody tr th:only-of-type {\n",
       "        vertical-align: middle;\n",
       "    }\n",
       "\n",
       "    .dataframe tbody tr th {\n",
       "        vertical-align: top;\n",
       "    }\n",
       "\n",
       "    .dataframe thead th {\n",
       "        text-align: right;\n",
       "    }\n",
       "</style>\n",
       "<table border=\"1\" class=\"dataframe\">\n",
       "  <thead>\n",
       "    <tr style=\"text-align: right;\">\n",
       "      <th></th>\n",
       "      <th>Unnamed: 0</th>\n",
       "      <th>Year</th>\n",
       "      <th>Semester</th>\n",
       "      <th>Country</th>\n",
       "      <th>Animal Category</th>\n",
       "      <th>Species</th>\n",
       "      <th>Susceptible</th>\n",
       "      <th>Cases</th>\n",
       "      <th>Killed</th>\n",
       "      <th>Slaughtered</th>\n",
       "      <th>Deaths</th>\n",
       "      <th>Vaccinated</th>\n",
       "      <th>Total Cases</th>\n",
       "    </tr>\n",
       "  </thead>\n",
       "  <tbody>\n",
       "    <tr>\n",
       "      <th>0</th>\n",
       "      <td>11206</td>\n",
       "      <td>2010</td>\n",
       "      <td>Jan-Jun 2010</td>\n",
       "      <td>Algeria</td>\n",
       "      <td>Domestic</td>\n",
       "      <td>Cats</td>\n",
       "      <td>53</td>\n",
       "      <td>12</td>\n",
       "      <td>6</td>\n",
       "      <td>0</td>\n",
       "      <td>6</td>\n",
       "      <td>0</td>\n",
       "      <td>7742</td>\n",
       "    </tr>\n",
       "    <tr>\n",
       "      <th>1</th>\n",
       "      <td>11207</td>\n",
       "      <td>2010</td>\n",
       "      <td>Jan-Jun 2010</td>\n",
       "      <td>Algeria</td>\n",
       "      <td>Domestic</td>\n",
       "      <td>Cattle</td>\n",
       "      <td>1049</td>\n",
       "      <td>93</td>\n",
       "      <td>47</td>\n",
       "      <td>17</td>\n",
       "      <td>29</td>\n",
       "      <td>0</td>\n",
       "      <td>7742</td>\n",
       "    </tr>\n",
       "    <tr>\n",
       "      <th>2</th>\n",
       "      <td>11208</td>\n",
       "      <td>2010</td>\n",
       "      <td>Jan-Jun 2010</td>\n",
       "      <td>Algeria</td>\n",
       "      <td>Domestic</td>\n",
       "      <td>Dogs</td>\n",
       "      <td>550</td>\n",
       "      <td>168</td>\n",
       "      <td>135</td>\n",
       "      <td>0</td>\n",
       "      <td>65</td>\n",
       "      <td>0</td>\n",
       "      <td>7742</td>\n",
       "    </tr>\n",
       "    <tr>\n",
       "      <th>3</th>\n",
       "      <td>11209</td>\n",
       "      <td>2010</td>\n",
       "      <td>Jan-Jun 2010</td>\n",
       "      <td>Algeria</td>\n",
       "      <td>Domestic</td>\n",
       "      <td>Equidae</td>\n",
       "      <td>93</td>\n",
       "      <td>28</td>\n",
       "      <td>15</td>\n",
       "      <td>0</td>\n",
       "      <td>13</td>\n",
       "      <td>0</td>\n",
       "      <td>7742</td>\n",
       "    </tr>\n",
       "    <tr>\n",
       "      <th>4</th>\n",
       "      <td>11210</td>\n",
       "      <td>2010</td>\n",
       "      <td>Jan-Jun 2010</td>\n",
       "      <td>Algeria</td>\n",
       "      <td>Domestic</td>\n",
       "      <td>Goats</td>\n",
       "      <td>748</td>\n",
       "      <td>8</td>\n",
       "      <td>3</td>\n",
       "      <td>0</td>\n",
       "      <td>5</td>\n",
       "      <td>0</td>\n",
       "      <td>7742</td>\n",
       "    </tr>\n",
       "  </tbody>\n",
       "</table>\n",
       "</div>"
      ],
      "text/plain": [
       "   Unnamed: 0  Year      Semester  Country Animal Category  Species  \\\n",
       "0       11206  2010  Jan-Jun 2010  Algeria        Domestic     Cats   \n",
       "1       11207  2010  Jan-Jun 2010  Algeria        Domestic   Cattle   \n",
       "2       11208  2010  Jan-Jun 2010  Algeria        Domestic     Dogs   \n",
       "3       11209  2010  Jan-Jun 2010  Algeria        Domestic  Equidae   \n",
       "4       11210  2010  Jan-Jun 2010  Algeria        Domestic    Goats   \n",
       "\n",
       "   Susceptible  Cases  Killed  Slaughtered  Deaths  Vaccinated  Total Cases  \n",
       "0           53     12       6            0       6           0         7742  \n",
       "1         1049     93      47           17      29           0         7742  \n",
       "2          550    168     135            0      65           0         7742  \n",
       "3           93     28      15            0      13           0         7742  \n",
       "4          748      8       3            0       5           0         7742  "
      ]
     },
     "execution_count": 6,
     "metadata": {},
     "output_type": "execute_result"
    }
   ],
   "source": [
    "df_rabies.head()"
   ]
  },
  {
   "cell_type": "code",
   "execution_count": 7,
   "id": "38d6240a",
   "metadata": {},
   "outputs": [],
   "source": [
    "#Drop unwanted columns\n",
    "df_time = df_rabies.drop(columns = ['Unnamed: 0', 'Semester', 'Animal Category', 'Species', 'Susceptible', 'Cases', 'Killed',\n",
    "                                   'Slaughtered', 'Deaths', 'Vaccinated'])"
   ]
  },
  {
   "cell_type": "code",
   "execution_count": 8,
   "id": "1e50e6a9",
   "metadata": {},
   "outputs": [
    {
     "data": {
      "text/html": [
       "<div>\n",
       "<style scoped>\n",
       "    .dataframe tbody tr th:only-of-type {\n",
       "        vertical-align: middle;\n",
       "    }\n",
       "\n",
       "    .dataframe tbody tr th {\n",
       "        vertical-align: top;\n",
       "    }\n",
       "\n",
       "    .dataframe thead th {\n",
       "        text-align: right;\n",
       "    }\n",
       "</style>\n",
       "<table border=\"1\" class=\"dataframe\">\n",
       "  <thead>\n",
       "    <tr style=\"text-align: right;\">\n",
       "      <th></th>\n",
       "      <th>Year</th>\n",
       "      <th>Country</th>\n",
       "      <th>Total Cases</th>\n",
       "    </tr>\n",
       "  </thead>\n",
       "  <tbody>\n",
       "    <tr>\n",
       "      <th>0</th>\n",
       "      <td>2010</td>\n",
       "      <td>Algeria</td>\n",
       "      <td>7742</td>\n",
       "    </tr>\n",
       "    <tr>\n",
       "      <th>1</th>\n",
       "      <td>2010</td>\n",
       "      <td>Algeria</td>\n",
       "      <td>7742</td>\n",
       "    </tr>\n",
       "    <tr>\n",
       "      <th>2</th>\n",
       "      <td>2010</td>\n",
       "      <td>Algeria</td>\n",
       "      <td>7742</td>\n",
       "    </tr>\n",
       "    <tr>\n",
       "      <th>3</th>\n",
       "      <td>2010</td>\n",
       "      <td>Algeria</td>\n",
       "      <td>7742</td>\n",
       "    </tr>\n",
       "    <tr>\n",
       "      <th>4</th>\n",
       "      <td>2010</td>\n",
       "      <td>Algeria</td>\n",
       "      <td>7742</td>\n",
       "    </tr>\n",
       "  </tbody>\n",
       "</table>\n",
       "</div>"
      ],
      "text/plain": [
       "   Year  Country  Total Cases\n",
       "0  2010  Algeria         7742\n",
       "1  2010  Algeria         7742\n",
       "2  2010  Algeria         7742\n",
       "3  2010  Algeria         7742\n",
       "4  2010  Algeria         7742"
      ]
     },
     "execution_count": 8,
     "metadata": {},
     "output_type": "execute_result"
    }
   ],
   "source": [
    "df_time.head()"
   ]
  },
  {
   "cell_type": "code",
   "execution_count": 9,
   "id": "9c647d9c",
   "metadata": {},
   "outputs": [
    {
     "data": {
      "text/plain": [
       "(25952, 3)"
      ]
     },
     "execution_count": 9,
     "metadata": {},
     "output_type": "execute_result"
    }
   ],
   "source": [
    "df_time.shape"
   ]
  },
  {
   "cell_type": "code",
   "execution_count": 10,
   "id": "af9b1919",
   "metadata": {},
   "outputs": [],
   "source": [
    "#Remove duplicates\n",
    "df_data = df_time.drop_duplicates()"
   ]
  },
  {
   "cell_type": "code",
   "execution_count": 11,
   "id": "0d5057d5",
   "metadata": {},
   "outputs": [
    {
     "data": {
      "text/html": [
       "<div>\n",
       "<style scoped>\n",
       "    .dataframe tbody tr th:only-of-type {\n",
       "        vertical-align: middle;\n",
       "    }\n",
       "\n",
       "    .dataframe tbody tr th {\n",
       "        vertical-align: top;\n",
       "    }\n",
       "\n",
       "    .dataframe thead th {\n",
       "        text-align: right;\n",
       "    }\n",
       "</style>\n",
       "<table border=\"1\" class=\"dataframe\">\n",
       "  <thead>\n",
       "    <tr style=\"text-align: right;\">\n",
       "      <th></th>\n",
       "      <th>Year</th>\n",
       "      <th>Country</th>\n",
       "      <th>Total Cases</th>\n",
       "    </tr>\n",
       "  </thead>\n",
       "  <tbody>\n",
       "    <tr>\n",
       "      <th>0</th>\n",
       "      <td>2010</td>\n",
       "      <td>Algeria</td>\n",
       "      <td>7742</td>\n",
       "    </tr>\n",
       "    <tr>\n",
       "      <th>7</th>\n",
       "      <td>2010</td>\n",
       "      <td>Angola</td>\n",
       "      <td>226</td>\n",
       "    </tr>\n",
       "    <tr>\n",
       "      <th>9</th>\n",
       "      <td>2010</td>\n",
       "      <td>Benin</td>\n",
       "      <td>112</td>\n",
       "    </tr>\n",
       "    <tr>\n",
       "      <th>12</th>\n",
       "      <td>2010</td>\n",
       "      <td>Botswana</td>\n",
       "      <td>750</td>\n",
       "    </tr>\n",
       "    <tr>\n",
       "      <th>22</th>\n",
       "      <td>2010</td>\n",
       "      <td>Burundi</td>\n",
       "      <td>85</td>\n",
       "    </tr>\n",
       "    <tr>\n",
       "      <th>23</th>\n",
       "      <td>2010</td>\n",
       "      <td>Central African Republic</td>\n",
       "      <td>540</td>\n",
       "    </tr>\n",
       "    <tr>\n",
       "      <th>24</th>\n",
       "      <td>2010</td>\n",
       "      <td>Chad</td>\n",
       "      <td>56</td>\n",
       "    </tr>\n",
       "    <tr>\n",
       "      <th>26</th>\n",
       "      <td>2010</td>\n",
       "      <td>Ivory Coast</td>\n",
       "      <td>153</td>\n",
       "    </tr>\n",
       "    <tr>\n",
       "      <th>30</th>\n",
       "      <td>2010</td>\n",
       "      <td>Eswatini</td>\n",
       "      <td>160</td>\n",
       "    </tr>\n",
       "    <tr>\n",
       "      <th>38</th>\n",
       "      <td>2010</td>\n",
       "      <td>Ethiopia</td>\n",
       "      <td>2789</td>\n",
       "    </tr>\n",
       "  </tbody>\n",
       "</table>\n",
       "</div>"
      ],
      "text/plain": [
       "    Year                   Country  Total Cases\n",
       "0   2010                   Algeria         7742\n",
       "7   2010                    Angola          226\n",
       "9   2010                     Benin          112\n",
       "12  2010                  Botswana          750\n",
       "22  2010                   Burundi           85\n",
       "23  2010  Central African Republic          540\n",
       "24  2010                      Chad           56\n",
       "26  2010               Ivory Coast          153\n",
       "30  2010                  Eswatini          160\n",
       "38  2010                  Ethiopia         2789"
      ]
     },
     "execution_count": 11,
     "metadata": {},
     "output_type": "execute_result"
    }
   ],
   "source": [
    "df_data.head(10)"
   ]
  },
  {
   "cell_type": "code",
   "execution_count": 12,
   "id": "249e078b",
   "metadata": {},
   "outputs": [
    {
     "data": {
      "text/plain": [
       "(1048, 3)"
      ]
     },
     "execution_count": 12,
     "metadata": {},
     "output_type": "execute_result"
    }
   ],
   "source": [
    "df_data.shape"
   ]
  },
  {
   "cell_type": "code",
   "execution_count": 13,
   "id": "b28678c3",
   "metadata": {},
   "outputs": [],
   "source": [
    "df_total = df_data"
   ]
  },
  {
   "cell_type": "code",
   "execution_count": 14,
   "id": "f3a0c405",
   "metadata": {},
   "outputs": [],
   "source": [
    "#Sum the Total Cases by year\n",
    "df_total ['Cases By Year'] = df_data.groupby('Year')['Total Cases'].transform('sum')"
   ]
  },
  {
   "cell_type": "code",
   "execution_count": 15,
   "id": "24b6c1f9",
   "metadata": {},
   "outputs": [
    {
     "data": {
      "text/html": [
       "<div>\n",
       "<style scoped>\n",
       "    .dataframe tbody tr th:only-of-type {\n",
       "        vertical-align: middle;\n",
       "    }\n",
       "\n",
       "    .dataframe tbody tr th {\n",
       "        vertical-align: top;\n",
       "    }\n",
       "\n",
       "    .dataframe thead th {\n",
       "        text-align: right;\n",
       "    }\n",
       "</style>\n",
       "<table border=\"1\" class=\"dataframe\">\n",
       "  <thead>\n",
       "    <tr style=\"text-align: right;\">\n",
       "      <th></th>\n",
       "      <th>Year</th>\n",
       "      <th>Country</th>\n",
       "      <th>Total Cases</th>\n",
       "      <th>Cases By Year</th>\n",
       "    </tr>\n",
       "  </thead>\n",
       "  <tbody>\n",
       "    <tr>\n",
       "      <th>0</th>\n",
       "      <td>2010</td>\n",
       "      <td>Algeria</td>\n",
       "      <td>7742</td>\n",
       "      <td>186325</td>\n",
       "    </tr>\n",
       "    <tr>\n",
       "      <th>7</th>\n",
       "      <td>2010</td>\n",
       "      <td>Angola</td>\n",
       "      <td>226</td>\n",
       "      <td>186325</td>\n",
       "    </tr>\n",
       "    <tr>\n",
       "      <th>9</th>\n",
       "      <td>2010</td>\n",
       "      <td>Benin</td>\n",
       "      <td>112</td>\n",
       "      <td>186325</td>\n",
       "    </tr>\n",
       "    <tr>\n",
       "      <th>12</th>\n",
       "      <td>2010</td>\n",
       "      <td>Botswana</td>\n",
       "      <td>750</td>\n",
       "      <td>186325</td>\n",
       "    </tr>\n",
       "    <tr>\n",
       "      <th>22</th>\n",
       "      <td>2010</td>\n",
       "      <td>Burundi</td>\n",
       "      <td>85</td>\n",
       "      <td>186325</td>\n",
       "    </tr>\n",
       "    <tr>\n",
       "      <th>23</th>\n",
       "      <td>2010</td>\n",
       "      <td>Central African Republic</td>\n",
       "      <td>540</td>\n",
       "      <td>186325</td>\n",
       "    </tr>\n",
       "    <tr>\n",
       "      <th>24</th>\n",
       "      <td>2010</td>\n",
       "      <td>Chad</td>\n",
       "      <td>56</td>\n",
       "      <td>186325</td>\n",
       "    </tr>\n",
       "    <tr>\n",
       "      <th>26</th>\n",
       "      <td>2010</td>\n",
       "      <td>Ivory Coast</td>\n",
       "      <td>153</td>\n",
       "      <td>186325</td>\n",
       "    </tr>\n",
       "    <tr>\n",
       "      <th>30</th>\n",
       "      <td>2010</td>\n",
       "      <td>Eswatini</td>\n",
       "      <td>160</td>\n",
       "      <td>186325</td>\n",
       "    </tr>\n",
       "    <tr>\n",
       "      <th>38</th>\n",
       "      <td>2010</td>\n",
       "      <td>Ethiopia</td>\n",
       "      <td>2789</td>\n",
       "      <td>186325</td>\n",
       "    </tr>\n",
       "    <tr>\n",
       "      <th>41</th>\n",
       "      <td>2010</td>\n",
       "      <td>Ghana</td>\n",
       "      <td>578</td>\n",
       "      <td>186325</td>\n",
       "    </tr>\n",
       "    <tr>\n",
       "      <th>46</th>\n",
       "      <td>2010</td>\n",
       "      <td>Kenya</td>\n",
       "      <td>656</td>\n",
       "      <td>186325</td>\n",
       "    </tr>\n",
       "    <tr>\n",
       "      <th>59</th>\n",
       "      <td>2010</td>\n",
       "      <td>Lesotho</td>\n",
       "      <td>257</td>\n",
       "      <td>186325</td>\n",
       "    </tr>\n",
       "    <tr>\n",
       "      <th>61</th>\n",
       "      <td>2010</td>\n",
       "      <td>Madagascar</td>\n",
       "      <td>155</td>\n",
       "      <td>186325</td>\n",
       "    </tr>\n",
       "    <tr>\n",
       "      <th>63</th>\n",
       "      <td>2010</td>\n",
       "      <td>Malawi</td>\n",
       "      <td>411</td>\n",
       "      <td>186325</td>\n",
       "    </tr>\n",
       "    <tr>\n",
       "      <th>73</th>\n",
       "      <td>2010</td>\n",
       "      <td>Mauritania</td>\n",
       "      <td>81</td>\n",
       "      <td>186325</td>\n",
       "    </tr>\n",
       "    <tr>\n",
       "      <th>78</th>\n",
       "      <td>2010</td>\n",
       "      <td>Morocco</td>\n",
       "      <td>2409</td>\n",
       "      <td>186325</td>\n",
       "    </tr>\n",
       "    <tr>\n",
       "      <th>104</th>\n",
       "      <td>2010</td>\n",
       "      <td>Mozambique</td>\n",
       "      <td>201</td>\n",
       "      <td>186325</td>\n",
       "    </tr>\n",
       "    <tr>\n",
       "      <th>106</th>\n",
       "      <td>2010</td>\n",
       "      <td>Namibia</td>\n",
       "      <td>3389</td>\n",
       "      <td>186325</td>\n",
       "    </tr>\n",
       "    <tr>\n",
       "      <th>114</th>\n",
       "      <td>2010</td>\n",
       "      <td>Nigeria</td>\n",
       "      <td>2169</td>\n",
       "      <td>186325</td>\n",
       "    </tr>\n",
       "  </tbody>\n",
       "</table>\n",
       "</div>"
      ],
      "text/plain": [
       "     Year                   Country  Total Cases  Cases By Year\n",
       "0    2010                   Algeria         7742         186325\n",
       "7    2010                    Angola          226         186325\n",
       "9    2010                     Benin          112         186325\n",
       "12   2010                  Botswana          750         186325\n",
       "22   2010                   Burundi           85         186325\n",
       "23   2010  Central African Republic          540         186325\n",
       "24   2010                      Chad           56         186325\n",
       "26   2010               Ivory Coast          153         186325\n",
       "30   2010                  Eswatini          160         186325\n",
       "38   2010                  Ethiopia         2789         186325\n",
       "41   2010                     Ghana          578         186325\n",
       "46   2010                     Kenya          656         186325\n",
       "59   2010                   Lesotho          257         186325\n",
       "61   2010                Madagascar          155         186325\n",
       "63   2010                    Malawi          411         186325\n",
       "73   2010                Mauritania           81         186325\n",
       "78   2010                   Morocco         2409         186325\n",
       "104  2010                Mozambique          201         186325\n",
       "106  2010                   Namibia         3389         186325\n",
       "114  2010                   Nigeria         2169         186325"
      ]
     },
     "execution_count": 15,
     "metadata": {},
     "output_type": "execute_result"
    }
   ],
   "source": [
    "df_total.head(20)"
   ]
  },
  {
   "cell_type": "code",
   "execution_count": 16,
   "id": "194d7cec",
   "metadata": {},
   "outputs": [],
   "source": [
    "df_total.drop(columns = ['Total Cases', 'Country'], axis = 1, inplace = True)"
   ]
  },
  {
   "cell_type": "code",
   "execution_count": 17,
   "id": "1f7bb6ce",
   "metadata": {},
   "outputs": [
    {
     "data": {
      "text/html": [
       "<div>\n",
       "<style scoped>\n",
       "    .dataframe tbody tr th:only-of-type {\n",
       "        vertical-align: middle;\n",
       "    }\n",
       "\n",
       "    .dataframe tbody tr th {\n",
       "        vertical-align: top;\n",
       "    }\n",
       "\n",
       "    .dataframe thead th {\n",
       "        text-align: right;\n",
       "    }\n",
       "</style>\n",
       "<table border=\"1\" class=\"dataframe\">\n",
       "  <thead>\n",
       "    <tr style=\"text-align: right;\">\n",
       "      <th></th>\n",
       "      <th>Year</th>\n",
       "      <th>Cases By Year</th>\n",
       "    </tr>\n",
       "  </thead>\n",
       "  <tbody>\n",
       "    <tr>\n",
       "      <th>0</th>\n",
       "      <td>2010</td>\n",
       "      <td>186325</td>\n",
       "    </tr>\n",
       "    <tr>\n",
       "      <th>7</th>\n",
       "      <td>2010</td>\n",
       "      <td>186325</td>\n",
       "    </tr>\n",
       "    <tr>\n",
       "      <th>9</th>\n",
       "      <td>2010</td>\n",
       "      <td>186325</td>\n",
       "    </tr>\n",
       "    <tr>\n",
       "      <th>12</th>\n",
       "      <td>2010</td>\n",
       "      <td>186325</td>\n",
       "    </tr>\n",
       "    <tr>\n",
       "      <th>22</th>\n",
       "      <td>2010</td>\n",
       "      <td>186325</td>\n",
       "    </tr>\n",
       "    <tr>\n",
       "      <th>23</th>\n",
       "      <td>2010</td>\n",
       "      <td>186325</td>\n",
       "    </tr>\n",
       "    <tr>\n",
       "      <th>24</th>\n",
       "      <td>2010</td>\n",
       "      <td>186325</td>\n",
       "    </tr>\n",
       "    <tr>\n",
       "      <th>26</th>\n",
       "      <td>2010</td>\n",
       "      <td>186325</td>\n",
       "    </tr>\n",
       "    <tr>\n",
       "      <th>30</th>\n",
       "      <td>2010</td>\n",
       "      <td>186325</td>\n",
       "    </tr>\n",
       "    <tr>\n",
       "      <th>38</th>\n",
       "      <td>2010</td>\n",
       "      <td>186325</td>\n",
       "    </tr>\n",
       "    <tr>\n",
       "      <th>41</th>\n",
       "      <td>2010</td>\n",
       "      <td>186325</td>\n",
       "    </tr>\n",
       "    <tr>\n",
       "      <th>46</th>\n",
       "      <td>2010</td>\n",
       "      <td>186325</td>\n",
       "    </tr>\n",
       "    <tr>\n",
       "      <th>59</th>\n",
       "      <td>2010</td>\n",
       "      <td>186325</td>\n",
       "    </tr>\n",
       "    <tr>\n",
       "      <th>61</th>\n",
       "      <td>2010</td>\n",
       "      <td>186325</td>\n",
       "    </tr>\n",
       "    <tr>\n",
       "      <th>63</th>\n",
       "      <td>2010</td>\n",
       "      <td>186325</td>\n",
       "    </tr>\n",
       "    <tr>\n",
       "      <th>73</th>\n",
       "      <td>2010</td>\n",
       "      <td>186325</td>\n",
       "    </tr>\n",
       "    <tr>\n",
       "      <th>78</th>\n",
       "      <td>2010</td>\n",
       "      <td>186325</td>\n",
       "    </tr>\n",
       "    <tr>\n",
       "      <th>104</th>\n",
       "      <td>2010</td>\n",
       "      <td>186325</td>\n",
       "    </tr>\n",
       "    <tr>\n",
       "      <th>106</th>\n",
       "      <td>2010</td>\n",
       "      <td>186325</td>\n",
       "    </tr>\n",
       "    <tr>\n",
       "      <th>114</th>\n",
       "      <td>2010</td>\n",
       "      <td>186325</td>\n",
       "    </tr>\n",
       "  </tbody>\n",
       "</table>\n",
       "</div>"
      ],
      "text/plain": [
       "     Year  Cases By Year\n",
       "0    2010         186325\n",
       "7    2010         186325\n",
       "9    2010         186325\n",
       "12   2010         186325\n",
       "22   2010         186325\n",
       "23   2010         186325\n",
       "24   2010         186325\n",
       "26   2010         186325\n",
       "30   2010         186325\n",
       "38   2010         186325\n",
       "41   2010         186325\n",
       "46   2010         186325\n",
       "59   2010         186325\n",
       "61   2010         186325\n",
       "63   2010         186325\n",
       "73   2010         186325\n",
       "78   2010         186325\n",
       "104  2010         186325\n",
       "106  2010         186325\n",
       "114  2010         186325"
      ]
     },
     "execution_count": 17,
     "metadata": {},
     "output_type": "execute_result"
    }
   ],
   "source": [
    "df_total.head(20)"
   ]
  },
  {
   "cell_type": "code",
   "execution_count": 18,
   "id": "5cd6bb44",
   "metadata": {},
   "outputs": [
    {
     "data": {
      "text/plain": [
       "(1048, 2)"
      ]
     },
     "execution_count": 18,
     "metadata": {},
     "output_type": "execute_result"
    }
   ],
   "source": [
    "df_total.shape"
   ]
  },
  {
   "cell_type": "code",
   "execution_count": 19,
   "id": "553f8231",
   "metadata": {},
   "outputs": [],
   "source": [
    "#Drop duplicates\n",
    "df_total2 = df_total.drop_duplicates()"
   ]
  },
  {
   "cell_type": "code",
   "execution_count": 20,
   "id": "90e4a3f5",
   "metadata": {},
   "outputs": [
    {
     "data": {
      "text/html": [
       "<div>\n",
       "<style scoped>\n",
       "    .dataframe tbody tr th:only-of-type {\n",
       "        vertical-align: middle;\n",
       "    }\n",
       "\n",
       "    .dataframe tbody tr th {\n",
       "        vertical-align: top;\n",
       "    }\n",
       "\n",
       "    .dataframe thead th {\n",
       "        text-align: right;\n",
       "    }\n",
       "</style>\n",
       "<table border=\"1\" class=\"dataframe\">\n",
       "  <thead>\n",
       "    <tr style=\"text-align: right;\">\n",
       "      <th></th>\n",
       "      <th>Year</th>\n",
       "      <th>Cases By Year</th>\n",
       "    </tr>\n",
       "  </thead>\n",
       "  <tbody>\n",
       "    <tr>\n",
       "      <th>0</th>\n",
       "      <td>2010</td>\n",
       "      <td>186325</td>\n",
       "    </tr>\n",
       "    <tr>\n",
       "      <th>2612</th>\n",
       "      <td>2011</td>\n",
       "      <td>187623</td>\n",
       "    </tr>\n",
       "    <tr>\n",
       "      <th>5180</th>\n",
       "      <td>2012</td>\n",
       "      <td>189069</td>\n",
       "    </tr>\n",
       "    <tr>\n",
       "      <th>7729</th>\n",
       "      <td>2013</td>\n",
       "      <td>190444</td>\n",
       "    </tr>\n",
       "    <tr>\n",
       "      <th>10350</th>\n",
       "      <td>2014</td>\n",
       "      <td>189348</td>\n",
       "    </tr>\n",
       "    <tr>\n",
       "      <th>12824</th>\n",
       "      <td>2015</td>\n",
       "      <td>186840</td>\n",
       "    </tr>\n",
       "    <tr>\n",
       "      <th>15457</th>\n",
       "      <td>2016</td>\n",
       "      <td>189179</td>\n",
       "    </tr>\n",
       "    <tr>\n",
       "      <th>17659</th>\n",
       "      <td>2017</td>\n",
       "      <td>189363</td>\n",
       "    </tr>\n",
       "    <tr>\n",
       "      <th>19968</th>\n",
       "      <td>2018</td>\n",
       "      <td>180814</td>\n",
       "    </tr>\n",
       "    <tr>\n",
       "      <th>22054</th>\n",
       "      <td>2019</td>\n",
       "      <td>177857</td>\n",
       "    </tr>\n",
       "    <tr>\n",
       "      <th>23949</th>\n",
       "      <td>2020</td>\n",
       "      <td>104024</td>\n",
       "    </tr>\n",
       "    <tr>\n",
       "      <th>25260</th>\n",
       "      <td>2021</td>\n",
       "      <td>85721</td>\n",
       "    </tr>\n",
       "    <tr>\n",
       "      <th>25918</th>\n",
       "      <td>2022</td>\n",
       "      <td>2508</td>\n",
       "    </tr>\n",
       "  </tbody>\n",
       "</table>\n",
       "</div>"
      ],
      "text/plain": [
       "       Year  Cases By Year\n",
       "0      2010         186325\n",
       "2612   2011         187623\n",
       "5180   2012         189069\n",
       "7729   2013         190444\n",
       "10350  2014         189348\n",
       "12824  2015         186840\n",
       "15457  2016         189179\n",
       "17659  2017         189363\n",
       "19968  2018         180814\n",
       "22054  2019         177857\n",
       "23949  2020         104024\n",
       "25260  2021          85721\n",
       "25918  2022           2508"
      ]
     },
     "execution_count": 20,
     "metadata": {},
     "output_type": "execute_result"
    }
   ],
   "source": [
    "df_total2.head(20)"
   ]
  },
  {
   "cell_type": "code",
   "execution_count": 21,
   "id": "d5aa7c50",
   "metadata": {},
   "outputs": [],
   "source": [
    "#Drop 2022 as it is incomplete\n",
    "df_total2.drop(df_total2.loc[df_total2['Year'] == 2022].index, inplace = True)"
   ]
  },
  {
   "cell_type": "code",
   "execution_count": 22,
   "id": "20af74e8",
   "metadata": {},
   "outputs": [
    {
     "data": {
      "text/html": [
       "<div>\n",
       "<style scoped>\n",
       "    .dataframe tbody tr th:only-of-type {\n",
       "        vertical-align: middle;\n",
       "    }\n",
       "\n",
       "    .dataframe tbody tr th {\n",
       "        vertical-align: top;\n",
       "    }\n",
       "\n",
       "    .dataframe thead th {\n",
       "        text-align: right;\n",
       "    }\n",
       "</style>\n",
       "<table border=\"1\" class=\"dataframe\">\n",
       "  <thead>\n",
       "    <tr style=\"text-align: right;\">\n",
       "      <th></th>\n",
       "      <th>Year</th>\n",
       "      <th>Cases By Year</th>\n",
       "    </tr>\n",
       "  </thead>\n",
       "  <tbody>\n",
       "    <tr>\n",
       "      <th>0</th>\n",
       "      <td>2010</td>\n",
       "      <td>186325</td>\n",
       "    </tr>\n",
       "    <tr>\n",
       "      <th>2612</th>\n",
       "      <td>2011</td>\n",
       "      <td>187623</td>\n",
       "    </tr>\n",
       "    <tr>\n",
       "      <th>5180</th>\n",
       "      <td>2012</td>\n",
       "      <td>189069</td>\n",
       "    </tr>\n",
       "    <tr>\n",
       "      <th>7729</th>\n",
       "      <td>2013</td>\n",
       "      <td>190444</td>\n",
       "    </tr>\n",
       "    <tr>\n",
       "      <th>10350</th>\n",
       "      <td>2014</td>\n",
       "      <td>189348</td>\n",
       "    </tr>\n",
       "    <tr>\n",
       "      <th>12824</th>\n",
       "      <td>2015</td>\n",
       "      <td>186840</td>\n",
       "    </tr>\n",
       "    <tr>\n",
       "      <th>15457</th>\n",
       "      <td>2016</td>\n",
       "      <td>189179</td>\n",
       "    </tr>\n",
       "    <tr>\n",
       "      <th>17659</th>\n",
       "      <td>2017</td>\n",
       "      <td>189363</td>\n",
       "    </tr>\n",
       "    <tr>\n",
       "      <th>19968</th>\n",
       "      <td>2018</td>\n",
       "      <td>180814</td>\n",
       "    </tr>\n",
       "    <tr>\n",
       "      <th>22054</th>\n",
       "      <td>2019</td>\n",
       "      <td>177857</td>\n",
       "    </tr>\n",
       "    <tr>\n",
       "      <th>23949</th>\n",
       "      <td>2020</td>\n",
       "      <td>104024</td>\n",
       "    </tr>\n",
       "    <tr>\n",
       "      <th>25260</th>\n",
       "      <td>2021</td>\n",
       "      <td>85721</td>\n",
       "    </tr>\n",
       "  </tbody>\n",
       "</table>\n",
       "</div>"
      ],
      "text/plain": [
       "       Year  Cases By Year\n",
       "0      2010         186325\n",
       "2612   2011         187623\n",
       "5180   2012         189069\n",
       "7729   2013         190444\n",
       "10350  2014         189348\n",
       "12824  2015         186840\n",
       "15457  2016         189179\n",
       "17659  2017         189363\n",
       "19968  2018         180814\n",
       "22054  2019         177857\n",
       "23949  2020         104024\n",
       "25260  2021          85721"
      ]
     },
     "execution_count": 22,
     "metadata": {},
     "output_type": "execute_result"
    }
   ],
   "source": [
    "df_total2.head(20)"
   ]
  },
  {
   "cell_type": "code",
   "execution_count": 23,
   "id": "8cee74f1",
   "metadata": {},
   "outputs": [
    {
     "name": "stdout",
     "output_type": "stream",
     "text": [
      "<class 'pandas.core.frame.DataFrame'>\n",
      "Int64Index: 12 entries, 0 to 25260\n",
      "Data columns (total 2 columns):\n",
      " #   Column         Non-Null Count  Dtype\n",
      "---  ------         --------------  -----\n",
      " 0   Year           12 non-null     int64\n",
      " 1   Cases By Year  12 non-null     int64\n",
      "dtypes: int64(2)\n",
      "memory usage: 288.0 bytes\n"
     ]
    }
   ],
   "source": [
    "df_total2.info()"
   ]
  },
  {
   "cell_type": "code",
   "execution_count": 24,
   "id": "8fb9d761",
   "metadata": {},
   "outputs": [],
   "source": [
    "#Create a new dataframe to experiment on without losing the original data\n",
    "df_exp = df_total2"
   ]
  },
  {
   "cell_type": "code",
   "execution_count": 25,
   "id": "df4320ce",
   "metadata": {},
   "outputs": [],
   "source": [
    "#Create a datetime\n",
    "df_exp['datetime'] = pd.to_datetime(df_exp['Year'], format = '%Y')"
   ]
  },
  {
   "cell_type": "code",
   "execution_count": 26,
   "id": "c7367ba2",
   "metadata": {},
   "outputs": [
    {
     "data": {
      "text/html": [
       "<div>\n",
       "<style scoped>\n",
       "    .dataframe tbody tr th:only-of-type {\n",
       "        vertical-align: middle;\n",
       "    }\n",
       "\n",
       "    .dataframe tbody tr th {\n",
       "        vertical-align: top;\n",
       "    }\n",
       "\n",
       "    .dataframe thead th {\n",
       "        text-align: right;\n",
       "    }\n",
       "</style>\n",
       "<table border=\"1\" class=\"dataframe\">\n",
       "  <thead>\n",
       "    <tr style=\"text-align: right;\">\n",
       "      <th></th>\n",
       "      <th>Year</th>\n",
       "      <th>Cases By Year</th>\n",
       "      <th>datetime</th>\n",
       "    </tr>\n",
       "  </thead>\n",
       "  <tbody>\n",
       "    <tr>\n",
       "      <th>0</th>\n",
       "      <td>2010</td>\n",
       "      <td>186325</td>\n",
       "      <td>2010-01-01</td>\n",
       "    </tr>\n",
       "    <tr>\n",
       "      <th>2612</th>\n",
       "      <td>2011</td>\n",
       "      <td>187623</td>\n",
       "      <td>2011-01-01</td>\n",
       "    </tr>\n",
       "    <tr>\n",
       "      <th>5180</th>\n",
       "      <td>2012</td>\n",
       "      <td>189069</td>\n",
       "      <td>2012-01-01</td>\n",
       "    </tr>\n",
       "    <tr>\n",
       "      <th>7729</th>\n",
       "      <td>2013</td>\n",
       "      <td>190444</td>\n",
       "      <td>2013-01-01</td>\n",
       "    </tr>\n",
       "    <tr>\n",
       "      <th>10350</th>\n",
       "      <td>2014</td>\n",
       "      <td>189348</td>\n",
       "      <td>2014-01-01</td>\n",
       "    </tr>\n",
       "  </tbody>\n",
       "</table>\n",
       "</div>"
      ],
      "text/plain": [
       "       Year  Cases By Year   datetime\n",
       "0      2010         186325 2010-01-01\n",
       "2612   2011         187623 2011-01-01\n",
       "5180   2012         189069 2012-01-01\n",
       "7729   2013         190444 2013-01-01\n",
       "10350  2014         189348 2014-01-01"
      ]
     },
     "execution_count": 26,
     "metadata": {},
     "output_type": "execute_result"
    }
   ],
   "source": [
    "df_exp.head()"
   ]
  },
  {
   "cell_type": "code",
   "execution_count": 27,
   "id": "bd2a9562",
   "metadata": {},
   "outputs": [
    {
     "name": "stdout",
     "output_type": "stream",
     "text": [
      "<class 'pandas.core.frame.DataFrame'>\n",
      "Int64Index: 12 entries, 0 to 25260\n",
      "Data columns (total 3 columns):\n",
      " #   Column         Non-Null Count  Dtype         \n",
      "---  ------         --------------  -----         \n",
      " 0   Year           12 non-null     int64         \n",
      " 1   Cases By Year  12 non-null     int64         \n",
      " 2   datetime       12 non-null     datetime64[ns]\n",
      "dtypes: datetime64[ns](1), int64(2)\n",
      "memory usage: 384.0 bytes\n"
     ]
    }
   ],
   "source": [
    "df_exp.info()"
   ]
  },
  {
   "cell_type": "markdown",
   "id": "34a0b3cd",
   "metadata": {},
   "source": [
    "## Create Datetime\n",
    "<a id='date'></a>"
   ]
  },
  {
   "cell_type": "code",
   "execution_count": 28,
   "id": "a485f2a4",
   "metadata": {},
   "outputs": [],
   "source": [
    "# Set datetime column as index\n",
    "df_exp = df_exp.set_index('datetime')\n",
    "df_exp.drop(['Year'], axis = 1, inplace = True)"
   ]
  },
  {
   "cell_type": "code",
   "execution_count": 29,
   "id": "4c4df122",
   "metadata": {},
   "outputs": [
    {
     "data": {
      "text/html": [
       "<div>\n",
       "<style scoped>\n",
       "    .dataframe tbody tr th:only-of-type {\n",
       "        vertical-align: middle;\n",
       "    }\n",
       "\n",
       "    .dataframe tbody tr th {\n",
       "        vertical-align: top;\n",
       "    }\n",
       "\n",
       "    .dataframe thead th {\n",
       "        text-align: right;\n",
       "    }\n",
       "</style>\n",
       "<table border=\"1\" class=\"dataframe\">\n",
       "  <thead>\n",
       "    <tr style=\"text-align: right;\">\n",
       "      <th></th>\n",
       "      <th>Cases By Year</th>\n",
       "    </tr>\n",
       "    <tr>\n",
       "      <th>datetime</th>\n",
       "      <th></th>\n",
       "    </tr>\n",
       "  </thead>\n",
       "  <tbody>\n",
       "    <tr>\n",
       "      <th>2010-01-01</th>\n",
       "      <td>186325</td>\n",
       "    </tr>\n",
       "    <tr>\n",
       "      <th>2011-01-01</th>\n",
       "      <td>187623</td>\n",
       "    </tr>\n",
       "    <tr>\n",
       "      <th>2012-01-01</th>\n",
       "      <td>189069</td>\n",
       "    </tr>\n",
       "    <tr>\n",
       "      <th>2013-01-01</th>\n",
       "      <td>190444</td>\n",
       "    </tr>\n",
       "    <tr>\n",
       "      <th>2014-01-01</th>\n",
       "      <td>189348</td>\n",
       "    </tr>\n",
       "    <tr>\n",
       "      <th>2015-01-01</th>\n",
       "      <td>186840</td>\n",
       "    </tr>\n",
       "    <tr>\n",
       "      <th>2016-01-01</th>\n",
       "      <td>189179</td>\n",
       "    </tr>\n",
       "    <tr>\n",
       "      <th>2017-01-01</th>\n",
       "      <td>189363</td>\n",
       "    </tr>\n",
       "    <tr>\n",
       "      <th>2018-01-01</th>\n",
       "      <td>180814</td>\n",
       "    </tr>\n",
       "    <tr>\n",
       "      <th>2019-01-01</th>\n",
       "      <td>177857</td>\n",
       "    </tr>\n",
       "  </tbody>\n",
       "</table>\n",
       "</div>"
      ],
      "text/plain": [
       "            Cases By Year\n",
       "datetime                 \n",
       "2010-01-01         186325\n",
       "2011-01-01         187623\n",
       "2012-01-01         189069\n",
       "2013-01-01         190444\n",
       "2014-01-01         189348\n",
       "2015-01-01         186840\n",
       "2016-01-01         189179\n",
       "2017-01-01         189363\n",
       "2018-01-01         180814\n",
       "2019-01-01         177857"
      ]
     },
     "execution_count": 29,
     "metadata": {},
     "output_type": "execute_result"
    }
   ],
   "source": [
    "df_exp.head(10)"
   ]
  },
  {
   "cell_type": "markdown",
   "id": "0ca493f2",
   "metadata": {},
   "source": [
    "## Plot and Decompose Timeline\n",
    "<a id='plttime'></a>"
   ]
  },
  {
   "cell_type": "code",
   "execution_count": 30,
   "id": "4dfb7cd4",
   "metadata": {},
   "outputs": [],
   "source": [
    "# Fixed size for special charts\n",
    "from pylab import rcParams\n",
    "rcParams['figure.figsize'] = 18,7"
   ]
  },
  {
   "cell_type": "code",
   "execution_count": 31,
   "id": "d682e850",
   "metadata": {},
   "outputs": [
    {
     "data": {
      "text/plain": [
       "[<matplotlib.lines.Line2D at 0x289de094610>]"
      ]
     },
     "execution_count": 31,
     "metadata": {},
     "output_type": "execute_result"
    },
    {
     "data": {
      "image/png": "[encoded data removed]",
      "text/plain": [
       "<Figure size 1500x500 with 1 Axes>"
      ]
     },
     "metadata": {
      "needs_background": "light"
     },
     "output_type": "display_data"
    }
   ],
   "source": [
    "#Plot timeline\n",
    "plt.figure(figsize = (15,5), dpi = 100)\n",
    "plt.title('Worldwide Rabies Cases by Year')\n",
    "plt.plot(df_exp)"
   ]
  },
  {
   "cell_type": "code",
   "execution_count": 32,
   "id": "a2414ef2",
   "metadata": {},
   "outputs": [],
   "source": [
    "#Define decomposition\n",
    "decomposition = sm.tsa.seasonal_decompose(df_exp, model = 'additive')"
   ]
  },
  {
   "cell_type": "code",
   "execution_count": 33,
   "id": "95fef36c",
   "metadata": {},
   "outputs": [
    {
     "data": {
      "image/png": "[encoded data removed]",
      "text/plain": [
       "<Figure size 1296x504 with 4 Axes>"
      ]
     },
     "metadata": {
      "needs_background": "light"
     },
     "output_type": "display_data"
    }
   ],
   "source": [
    "#Decompose the plot\n",
    "decomposition.plot()\n",
    "plt.show()"
   ]
  },
  {
   "cell_type": "markdown",
   "id": "ab99d655",
   "metadata": {},
   "source": [
    "### There is no obvious Seasonal trend in the decomposed data but there is a clear decreasing trend in recent years.\n",
    "### Null hypothesis = There is a unit root (data is not stationary)"
   ]
  },
  {
   "cell_type": "markdown",
   "id": "03f8d65c",
   "metadata": {},
   "source": [
    "## Create and Run Dickey Fuller Test\n",
    "<a id='dftest'></a>"
   ]
  },
  {
   "cell_type": "code",
   "execution_count": 34,
   "id": "9d2ed5b8",
   "metadata": {},
   "outputs": [],
   "source": [
    "#Define Dickey Fuller test\n",
    "def dickey_fuller(timeseries):\n",
    "    print('Dickey-Fuller Stationarity Test:')\n",
    "    test = adfuller(timeseries, autolag = 'AIC')\n",
    "    result = pd.Series(test[0:4], index = ['Test Statistic', 'p-value', 'Number of Lags Used', 'Number of Observations Used'])\n",
    "    for key, value in test [4].items():\n",
    "        result ['Critical Value(%s)'%key] = value\n",
    "    print(result)"
   ]
  },
  {
   "cell_type": "code",
   "execution_count": 35,
   "id": "13995fd0",
   "metadata": {},
   "outputs": [
    {
     "name": "stdout",
     "output_type": "stream",
     "text": [
      "Dickey-Fuller Stationarity Test:\n",
      "Test Statistic                 1.668318\n",
      "p-value                        0.998049\n",
      "Number of Lags Used            3.000000\n",
      "Number of Observations Used    8.000000\n",
      "Critical Value(1%)            -4.665186\n",
      "Critical Value(5%)            -3.367187\n",
      "Critical Value(10%)           -2.802961\n",
      "dtype: float64\n"
     ]
    }
   ],
   "source": [
    "# Run Dickey-Fuller test - All critical values are much smaller than test statistic.  The p-value is much too high so the null hypothesis cannot be rejected (there is a unit root so the data is not stationary).\n",
    "dickey_fuller(df_exp)"
   ]
  },
  {
   "cell_type": "markdown",
   "id": "f03fac7b",
   "metadata": {},
   "source": [
    "## Plot Autocorrelations\n",
    "<a id='pltauto'></a>"
   ]
  },
  {
   "cell_type": "code",
   "execution_count": 36,
   "id": "93b089b6",
   "metadata": {},
   "outputs": [
    {
     "data": {
      "image/png": "[encoded data removed]",
      "text/plain": [
       "<Figure size 1296x504 with 1 Axes>"
      ]
     },
     "metadata": {
      "needs_background": "light"
     },
     "output_type": "display_data"
    }
   ],
   "source": [
    "#Plot autocorrelations\n",
    "from statsmodels.graphics.tsaplots import plot_acf, plot_pacf\n",
    "plot_acf(df_exp)\n",
    "plt.show()\n",
    "#None of the vertical lines are outside of the standard deviation so no multiple correlated variables."
   ]
  },
  {
   "cell_type": "markdown",
   "id": "fbf04a15",
   "metadata": {},
   "source": [
    "## Stationarize Data\n",
    "<a id='station'></a>"
   ]
  },
  {
   "cell_type": "code",
   "execution_count": 37,
   "id": "a6343113",
   "metadata": {},
   "outputs": [],
   "source": [
    "#Stationarize the data (the decreasing trend in recent years is non-stationary)\n",
    "df_diff = df_exp - df_exp.shift(1)\n",
    "df_diff.dropna(inplace = True)"
   ]
  },
  {
   "cell_type": "code",
   "execution_count": 38,
   "id": "4eb490b9",
   "metadata": {},
   "outputs": [
    {
     "data": {
      "text/html": [
       "<div>\n",
       "<style scoped>\n",
       "    .dataframe tbody tr th:only-of-type {\n",
       "        vertical-align: middle;\n",
       "    }\n",
       "\n",
       "    .dataframe tbody tr th {\n",
       "        vertical-align: top;\n",
       "    }\n",
       "\n",
       "    .dataframe thead th {\n",
       "        text-align: right;\n",
       "    }\n",
       "</style>\n",
       "<table border=\"1\" class=\"dataframe\">\n",
       "  <thead>\n",
       "    <tr style=\"text-align: right;\">\n",
       "      <th></th>\n",
       "      <th>Cases By Year</th>\n",
       "    </tr>\n",
       "    <tr>\n",
       "      <th>datetime</th>\n",
       "      <th></th>\n",
       "    </tr>\n",
       "  </thead>\n",
       "  <tbody>\n",
       "    <tr>\n",
       "      <th>2011-01-01</th>\n",
       "      <td>1298.0</td>\n",
       "    </tr>\n",
       "    <tr>\n",
       "      <th>2012-01-01</th>\n",
       "      <td>1446.0</td>\n",
       "    </tr>\n",
       "    <tr>\n",
       "      <th>2013-01-01</th>\n",
       "      <td>1375.0</td>\n",
       "    </tr>\n",
       "    <tr>\n",
       "      <th>2014-01-01</th>\n",
       "      <td>-1096.0</td>\n",
       "    </tr>\n",
       "    <tr>\n",
       "      <th>2015-01-01</th>\n",
       "      <td>-2508.0</td>\n",
       "    </tr>\n",
       "  </tbody>\n",
       "</table>\n",
       "</div>"
      ],
      "text/plain": [
       "            Cases By Year\n",
       "datetime                 \n",
       "2011-01-01         1298.0\n",
       "2012-01-01         1446.0\n",
       "2013-01-01         1375.0\n",
       "2014-01-01        -1096.0\n",
       "2015-01-01        -2508.0"
      ]
     },
     "execution_count": 38,
     "metadata": {},
     "output_type": "execute_result"
    }
   ],
   "source": [
    "df_diff.head()"
   ]
  },
  {
   "cell_type": "code",
   "execution_count": 39,
   "id": "a5de6a90",
   "metadata": {},
   "outputs": [
    {
     "data": {
      "text/plain": [
       "[<matplotlib.lines.Line2D at 0x289dea44700>]"
      ]
     },
     "execution_count": 39,
     "metadata": {},
     "output_type": "execute_result"
    },
    {
     "data": {
      "image/png": "[encoded data removed]",
      "text/plain": [
       "<Figure size 1080x360 with 1 Axes>"
      ]
     },
     "metadata": {
      "needs_background": "light"
     },
     "output_type": "display_data"
    }
   ],
   "source": [
    "#Recheck curve\n",
    "plt.figure(figsize = (15,5))\n",
    "plt.plot(df_diff)"
   ]
  },
  {
   "cell_type": "code",
   "execution_count": 40,
   "id": "f5431e74",
   "metadata": {},
   "outputs": [
    {
     "name": "stdout",
     "output_type": "stream",
     "text": [
      "Dickey-Fuller Stationarity Test:\n",
      "Test Statistic                 3.378924\n",
      "p-value                        1.000000\n",
      "Number of Lags Used            1.000000\n",
      "Number of Observations Used    9.000000\n",
      "Critical Value(1%)            -4.473135\n",
      "Critical Value(5%)            -3.289881\n",
      "Critical Value(10%)           -2.772382\n",
      "dtype: float64\n"
     ]
    }
   ],
   "source": [
    "#Repeat dickey_fuller test - p-value is even higher so stationarization needs to be repeated\n",
    "dickey_fuller(df_diff)"
   ]
  },
  {
   "cell_type": "code",
   "execution_count": 41,
   "id": "fd126f80",
   "metadata": {},
   "outputs": [],
   "source": [
    "#Stationarize\n",
    "df_diff2 = df_diff - df_diff.shift(1)\n",
    "df_diff2.dropna(inplace = True)"
   ]
  },
  {
   "cell_type": "code",
   "execution_count": 42,
   "id": "84cbc552",
   "metadata": {},
   "outputs": [
    {
     "data": {
      "text/plain": [
       "[<matplotlib.lines.Line2D at 0x289dea91bb0>]"
      ]
     },
     "execution_count": 42,
     "metadata": {},
     "output_type": "execute_result"
    },
    {
     "data": {
      "image/png": "[encoded data removed]",
      "text/plain": [
       "<Figure size 1080x360 with 1 Axes>"
      ]
     },
     "metadata": {
      "needs_background": "light"
     },
     "output_type": "display_data"
    }
   ],
   "source": [
    "#Repeat curve\n",
    "plt.figure(figsize = (15,5))\n",
    "plt.plot(df_diff2)"
   ]
  },
  {
   "cell_type": "code",
   "execution_count": 43,
   "id": "9d9b4a5a",
   "metadata": {},
   "outputs": [
    {
     "name": "stdout",
     "output_type": "stream",
     "text": [
      "Dickey-Fuller Stationarity Test:\n",
      "Test Statistic                -2.739436\n",
      "p-value                        0.067459\n",
      "Number of Lags Used            3.000000\n",
      "Number of Observations Used    6.000000\n",
      "Critical Value(1%)            -5.354256\n",
      "Critical Value(5%)            -3.646238\n",
      "Critical Value(10%)           -2.901198\n",
      "dtype: float64\n"
     ]
    }
   ],
   "source": [
    "#Repeat dickey_fuller test - p-value has improved but still isn't below the 0.05 cut-off\n",
    "dickey_fuller(df_diff2)"
   ]
  },
  {
   "cell_type": "code",
   "execution_count": 44,
   "id": "ef339543",
   "metadata": {},
   "outputs": [],
   "source": [
    "#Stationarize\n",
    "df_diff3 = df_diff2 - df_diff2.shift(1)\n",
    "df_diff3.dropna(inplace = True)"
   ]
  },
  {
   "cell_type": "code",
   "execution_count": 45,
   "id": "9881c3bb",
   "metadata": {},
   "outputs": [
    {
     "data": {
      "text/html": [
       "<div>\n",
       "<style scoped>\n",
       "    .dataframe tbody tr th:only-of-type {\n",
       "        vertical-align: middle;\n",
       "    }\n",
       "\n",
       "    .dataframe tbody tr th {\n",
       "        vertical-align: top;\n",
       "    }\n",
       "\n",
       "    .dataframe thead th {\n",
       "        text-align: right;\n",
       "    }\n",
       "</style>\n",
       "<table border=\"1\" class=\"dataframe\">\n",
       "  <thead>\n",
       "    <tr style=\"text-align: right;\">\n",
       "      <th></th>\n",
       "      <th>Cases By Year</th>\n",
       "    </tr>\n",
       "    <tr>\n",
       "      <th>datetime</th>\n",
       "      <th></th>\n",
       "    </tr>\n",
       "  </thead>\n",
       "  <tbody>\n",
       "    <tr>\n",
       "      <th>2013-01-01</th>\n",
       "      <td>-219.0</td>\n",
       "    </tr>\n",
       "    <tr>\n",
       "      <th>2014-01-01</th>\n",
       "      <td>-2400.0</td>\n",
       "    </tr>\n",
       "    <tr>\n",
       "      <th>2015-01-01</th>\n",
       "      <td>1059.0</td>\n",
       "    </tr>\n",
       "    <tr>\n",
       "      <th>2016-01-01</th>\n",
       "      <td>6259.0</td>\n",
       "    </tr>\n",
       "    <tr>\n",
       "      <th>2017-01-01</th>\n",
       "      <td>-7002.0</td>\n",
       "    </tr>\n",
       "  </tbody>\n",
       "</table>\n",
       "</div>"
      ],
      "text/plain": [
       "            Cases By Year\n",
       "datetime                 \n",
       "2013-01-01         -219.0\n",
       "2014-01-01        -2400.0\n",
       "2015-01-01         1059.0\n",
       "2016-01-01         6259.0\n",
       "2017-01-01        -7002.0"
      ]
     },
     "execution_count": 45,
     "metadata": {},
     "output_type": "execute_result"
    }
   ],
   "source": [
    "df_diff3.head()"
   ]
  },
  {
   "cell_type": "code",
   "execution_count": 46,
   "id": "f85c86de",
   "metadata": {},
   "outputs": [
    {
     "data": {
      "text/plain": [
       "[<matplotlib.lines.Line2D at 0x289df05c5e0>]"
      ]
     },
     "execution_count": 46,
     "metadata": {},
     "output_type": "execute_result"
    },
    {
     "data": {
      "image/png": "[encoded data removed]",
      "text/plain": [
       "<Figure size 1080x360 with 1 Axes>"
      ]
     },
     "metadata": {
      "needs_background": "light"
     },
     "output_type": "display_data"
    }
   ],
   "source": [
    "#Repeat curve\n",
    "plt.figure(figsize = (15,5))\n",
    "plt.plot(df_diff3)"
   ]
  },
  {
   "cell_type": "code",
   "execution_count": 47,
   "id": "00ac0875",
   "metadata": {},
   "outputs": [
    {
     "name": "stdout",
     "output_type": "stream",
     "text": [
      "Dickey-Fuller Stationarity Test:\n",
      "Test Statistic                -1.045941e+01\n",
      "p-value                        1.371439e-18\n",
      "Number of Lags Used            0.000000e+00\n",
      "Number of Observations Used    8.000000e+00\n",
      "Critical Value(1%)            -4.665186e+00\n",
      "Critical Value(5%)            -3.367187e+00\n",
      "Critical Value(10%)           -2.802961e+00\n",
      "dtype: float64\n"
     ]
    }
   ],
   "source": [
    "#Repeat dickey_fuller - 5% critical value is larger than the test statistic\n",
    "dickey_fuller(df_diff3)"
   ]
  },
  {
   "cell_type": "code",
   "execution_count": 48,
   "id": "f90cb6d4",
   "metadata": {},
   "outputs": [],
   "source": [
    "#Stationarize\n",
    "df_diff4 = df_diff3 - df_diff3.shift(1)\n",
    "df_diff4.dropna(inplace = True)"
   ]
  },
  {
   "cell_type": "code",
   "execution_count": 49,
   "id": "b22ad26f",
   "metadata": {},
   "outputs": [
    {
     "name": "stdout",
     "output_type": "stream",
     "text": [
      "Dickey-Fuller Stationarity Test:\n",
      "Test Statistic                -3.790039\n",
      "p-value                        0.003011\n",
      "Number of Lags Used            1.000000\n",
      "Number of Observations Used    6.000000\n",
      "Critical Value(1%)            -5.354256\n",
      "Critical Value(5%)            -3.646238\n",
      "Critical Value(10%)           -2.901198\n",
      "dtype: float64\n"
     ]
    }
   ],
   "source": [
    "#Repeat dickey_fuller\n",
    "dickey_fuller(df_diff4)"
   ]
  },
  {
   "cell_type": "code",
   "execution_count": 50,
   "id": "d2373850",
   "metadata": {},
   "outputs": [],
   "source": [
    "#Stationarize\n",
    "df_diff5 = df_diff4 - df_diff4.shift(1)\n",
    "df_diff5.dropna(inplace = True)"
   ]
  },
  {
   "cell_type": "code",
   "execution_count": 51,
   "id": "e7b6f6ca",
   "metadata": {},
   "outputs": [
    {
     "name": "stdout",
     "output_type": "stream",
     "text": [
      "Dickey-Fuller Stationarity Test:\n",
      "Test Statistic                -5.580345\n",
      "p-value                        0.000001\n",
      "Number of Lags Used            1.000000\n",
      "Number of Observations Used    5.000000\n",
      "Critical Value(1%)            -6.045114\n",
      "Critical Value(5%)            -3.929280\n",
      "Critical Value(10%)           -2.986810\n",
      "dtype: float64\n"
     ]
    }
   ],
   "source": [
    "#Repeat dickey_fuller\n",
    "dickey_fuller(df_diff5)"
   ]
  },
  {
   "cell_type": "code",
   "execution_count": 52,
   "id": "a70a9df4",
   "metadata": {},
   "outputs": [],
   "source": [
    "#Stationarize\n",
    "df_diff6 = df_diff5 - df_diff5.shift(1)\n",
    "df_diff6.dropna(inplace = True)"
   ]
  },
  {
   "cell_type": "code",
   "execution_count": 53,
   "id": "8b0daf08",
   "metadata": {},
   "outputs": [
    {
     "name": "stdout",
     "output_type": "stream",
     "text": [
      "Dickey-Fuller Stationarity Test:\n",
      "Test Statistic                -4.635843\n",
      "p-value                        0.000111\n",
      "Number of Lags Used            1.000000\n",
      "Number of Observations Used    4.000000\n",
      "Critical Value(1%)            -7.355441\n",
      "Critical Value(5%)            -4.474365\n",
      "Critical Value(10%)           -3.126933\n",
      "dtype: float64\n"
     ]
    }
   ],
   "source": [
    "#Repeat dickey_fuller\n",
    "dickey_fuller(df_diff6)"
   ]
  },
  {
   "cell_type": "code",
   "execution_count": 54,
   "id": "1c0bfa10",
   "metadata": {},
   "outputs": [],
   "source": [
    "#Stationarize\n",
    "df_diff7 = df_diff6 - df_diff6.shift(1)\n",
    "df_diff7.dropna(inplace = True)"
   ]
  },
  {
   "cell_type": "code",
   "execution_count": 55,
   "id": "53102a74",
   "metadata": {},
   "outputs": [
    {
     "name": "stdout",
     "output_type": "stream",
     "text": [
      "Dickey-Fuller Stationarity Test:\n",
      "Test Statistic                -2.912648\n",
      "p-value                        0.043897\n",
      "Number of Lags Used            0.000000\n",
      "Number of Observations Used    4.000000\n",
      "Critical Value(1%)            -7.355441\n",
      "Critical Value(5%)            -4.474365\n",
      "Critical Value(10%)           -3.126933\n",
      "dtype: float64\n"
     ]
    }
   ],
   "source": [
    "#Repeat dickey_fuller - p-value is less than 0.05 and Critical Value of 5% is less than the test statistic\n",
    "dickey_fuller(df_diff7)"
   ]
  },
  {
   "cell_type": "code",
   "execution_count": 56,
   "id": "2d65c269",
   "metadata": {},
   "outputs": [
    {
     "data": {
      "text/html": [
       "<div>\n",
       "<style scoped>\n",
       "    .dataframe tbody tr th:only-of-type {\n",
       "        vertical-align: middle;\n",
       "    }\n",
       "\n",
       "    .dataframe tbody tr th {\n",
       "        vertical-align: top;\n",
       "    }\n",
       "\n",
       "    .dataframe thead th {\n",
       "        text-align: right;\n",
       "    }\n",
       "</style>\n",
       "<table border=\"1\" class=\"dataframe\">\n",
       "  <thead>\n",
       "    <tr style=\"text-align: right;\">\n",
       "      <th></th>\n",
       "      <th>Cases By Year</th>\n",
       "    </tr>\n",
       "    <tr>\n",
       "      <th>datetime</th>\n",
       "      <th></th>\n",
       "    </tr>\n",
       "  </thead>\n",
       "  <tbody>\n",
       "    <tr>\n",
       "      <th>2017-01-01</th>\n",
       "      <td>-16303.0</td>\n",
       "    </tr>\n",
       "    <tr>\n",
       "      <th>2018-01-01</th>\n",
       "      <td>52348.0</td>\n",
       "    </tr>\n",
       "    <tr>\n",
       "      <th>2019-01-01</th>\n",
       "      <td>-25352.0</td>\n",
       "    </tr>\n",
       "    <tr>\n",
       "      <th>2020-01-01</th>\n",
       "      <td>-138969.0</td>\n",
       "    </tr>\n",
       "    <tr>\n",
       "      <th>2021-01-01</th>\n",
       "      <td>537538.0</td>\n",
       "    </tr>\n",
       "  </tbody>\n",
       "</table>\n",
       "</div>"
      ],
      "text/plain": [
       "            Cases By Year\n",
       "datetime                 \n",
       "2017-01-01       -16303.0\n",
       "2018-01-01        52348.0\n",
       "2019-01-01       -25352.0\n",
       "2020-01-01      -138969.0\n",
       "2021-01-01       537538.0"
      ]
     },
     "execution_count": 56,
     "metadata": {},
     "output_type": "execute_result"
    }
   ],
   "source": [
    "df_diff7.head()"
   ]
  },
  {
   "cell_type": "code",
   "execution_count": 57,
   "id": "a1844fb9",
   "metadata": {},
   "outputs": [
    {
     "data": {
      "text/plain": [
       "[<matplotlib.lines.Line2D at 0x289df0d26d0>]"
      ]
     },
     "execution_count": 57,
     "metadata": {},
     "output_type": "execute_result"
    },
    {
     "data": {
      "image/png": "[encoded data removed]",
      "text/plain": [
       "<Figure size 1080x360 with 1 Axes>"
      ]
     },
     "metadata": {
      "needs_background": "light"
     },
     "output_type": "display_data"
    }
   ],
   "source": [
    "#Check curve\n",
    "plt.figure(figsize = (15,5))\n",
    "plt.plot(df_diff7)"
   ]
  },
  {
   "cell_type": "code",
   "execution_count": 58,
   "id": "8f9f4b7e",
   "metadata": {},
   "outputs": [
    {
     "data": {
      "image/png": "[encoded data removed]",
      "text/plain": [
       "<Figure size 1296x504 with 1 Axes>"
      ]
     },
     "metadata": {
      "needs_background": "light"
     },
     "output_type": "display_data"
    }
   ],
   "source": [
    "#Recheck autocorrelations\n",
    "plot_acf(df_diff7)\n",
    "plt.show()"
   ]
  },
  {
   "cell_type": "markdown",
   "id": "5fc15095",
   "metadata": {},
   "source": [
    "### After 7 standardizations the data is finally stationary (the p-value is less than 0.05 and the 5% Critical Value is smaller than the Test Statistic) and can be used for forecasting.  The data is clearly statistical as you cannot have a negative number of cases."
   ]
  },
  {
   "cell_type": "markdown",
   "id": "cb7e95f2",
   "metadata": {},
   "source": [
    "### The decreasing trend in 2020 and 2021 could have multiple causes.  The World Health Organization does have an initiative to eradicate rabies in humans (which involves education and prevention) and has been working on this initiative for many years.  The human global pandemic (Covid 19) has likely also affected both testing and reporting as countries were focused on concerns other than rabies.  It will be interesting to see what the actual case numbers are over the next couple of years."
   ]
  },
  {
   "cell_type": "code",
   "execution_count": null,
   "id": "f55b3cf3",
   "metadata": {},
   "outputs": [],
   "source": []
  }
 ],
 "metadata": {
  "kernelspec": {
   "display_name": "Python 3 (ipykernel)",
   "language": "python",
   "name": "python3"
  },
  "language_info": {
   "codemirror_mode": {
    "name": "ipython",
    "version": 3
   },
   "file_extension": ".py",
   "mimetype": "text/x-python",
   "name": "python",
   "nbconvert_exporter": "python",
   "pygments_lexer": "ipython3",
   "version": "3.9.12"
  }
 },
 "nbformat": 4,
 "nbformat_minor": 5
}
