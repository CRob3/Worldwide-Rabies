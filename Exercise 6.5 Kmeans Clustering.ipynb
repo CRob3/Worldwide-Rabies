{
 "cells": [
  {
   "cell_type": "markdown",
   "id": "9dc495e7",
   "metadata": {},
   "source": [
    "## Kmeans Clustering\n",
    "\n",
    "### 1.[Elbow Curve](#elb)\n",
    "\n",
    "### 2.[Kmeans Cluster](#kme)\n",
    "\n",
    "### 3.[Standardize Data](#stand)\n",
    "\n",
    "### 4.[Repeat Elbow Curve](#repel)\n",
    "\n",
    "### 5.[Repeat Kmeans Cluster](#repkme)\n",
    "\n",
    "### 6.[Plot Different Variables with Clusters](#plvar)\n",
    "\n",
    "### 7.[Analyse Clusters](#anclu)"
   ]
  },
  {
   "cell_type": "code",
   "execution_count": 1,
   "id": "1609af28",
   "metadata": {},
   "outputs": [],
   "source": [
    "#Import libraries\n",
    "import pandas as pd\n",
    "import numpy as np\n",
    "import os\n",
    "import seaborn as sns\n",
    "import matplotlib\n",
    "import matplotlib.pyplot as plt\n",
    "import sklearn\n",
    "from sklearn.cluster import KMeans\n",
    "import pylab as pl"
   ]
  },
  {
   "cell_type": "code",
   "execution_count": 2,
   "id": "f8ab3a24",
   "metadata": {},
   "outputs": [],
   "source": [
    "%matplotlib inline"
   ]
  },
  {
   "cell_type": "code",
   "execution_count": 3,
   "id": "b6a1add9",
   "metadata": {},
   "outputs": [],
   "source": [
    "path = r\"C:\\Users\\corri\\Documents\\New Career\\Achievment 6\\Rabies Project\\Data\""
   ]
  },
  {
   "cell_type": "code",
   "execution_count": 4,
   "id": "350585e7",
   "metadata": {},
   "outputs": [],
   "source": [
    "#Import dataframe\n",
    "df_rabies = pd.read_csv(os.path.join(path, 'Prepared Data', 'Renamed_Total.csv'))"
   ]
  },
  {
   "cell_type": "code",
   "execution_count": 5,
   "id": "d26dd300",
   "metadata": {},
   "outputs": [
    {
     "data": {
      "text/html": [
       "<div>\n",
       "<style scoped>\n",
       "    .dataframe tbody tr th:only-of-type {\n",
       "        vertical-align: middle;\n",
       "    }\n",
       "\n",
       "    .dataframe tbody tr th {\n",
       "        vertical-align: top;\n",
       "    }\n",
       "\n",
       "    .dataframe thead th {\n",
       "        text-align: right;\n",
       "    }\n",
       "</style>\n",
       "<table border=\"1\" class=\"dataframe\">\n",
       "  <thead>\n",
       "    <tr style=\"text-align: right;\">\n",
       "      <th></th>\n",
       "      <th>Unnamed: 0</th>\n",
       "      <th>Year</th>\n",
       "      <th>Semester</th>\n",
       "      <th>Country</th>\n",
       "      <th>Animal Category</th>\n",
       "      <th>Species</th>\n",
       "      <th>Susceptible</th>\n",
       "      <th>Cases</th>\n",
       "      <th>Killed</th>\n",
       "      <th>Slaughtered</th>\n",
       "      <th>Deaths</th>\n",
       "      <th>Vaccinated</th>\n",
       "      <th>Total Cases</th>\n",
       "    </tr>\n",
       "  </thead>\n",
       "  <tbody>\n",
       "    <tr>\n",
       "      <th>0</th>\n",
       "      <td>11206</td>\n",
       "      <td>2010</td>\n",
       "      <td>Jan-Jun 2010</td>\n",
       "      <td>Algeria</td>\n",
       "      <td>Domestic</td>\n",
       "      <td>Cats</td>\n",
       "      <td>53</td>\n",
       "      <td>12</td>\n",
       "      <td>6</td>\n",
       "      <td>0</td>\n",
       "      <td>6</td>\n",
       "      <td>0</td>\n",
       "      <td>7742</td>\n",
       "    </tr>\n",
       "    <tr>\n",
       "      <th>1</th>\n",
       "      <td>11207</td>\n",
       "      <td>2010</td>\n",
       "      <td>Jan-Jun 2010</td>\n",
       "      <td>Algeria</td>\n",
       "      <td>Domestic</td>\n",
       "      <td>Cattle</td>\n",
       "      <td>1049</td>\n",
       "      <td>93</td>\n",
       "      <td>47</td>\n",
       "      <td>17</td>\n",
       "      <td>29</td>\n",
       "      <td>0</td>\n",
       "      <td>7742</td>\n",
       "    </tr>\n",
       "    <tr>\n",
       "      <th>2</th>\n",
       "      <td>11208</td>\n",
       "      <td>2010</td>\n",
       "      <td>Jan-Jun 2010</td>\n",
       "      <td>Algeria</td>\n",
       "      <td>Domestic</td>\n",
       "      <td>Dogs</td>\n",
       "      <td>550</td>\n",
       "      <td>168</td>\n",
       "      <td>135</td>\n",
       "      <td>0</td>\n",
       "      <td>65</td>\n",
       "      <td>0</td>\n",
       "      <td>7742</td>\n",
       "    </tr>\n",
       "    <tr>\n",
       "      <th>3</th>\n",
       "      <td>11209</td>\n",
       "      <td>2010</td>\n",
       "      <td>Jan-Jun 2010</td>\n",
       "      <td>Algeria</td>\n",
       "      <td>Domestic</td>\n",
       "      <td>Equidae</td>\n",
       "      <td>93</td>\n",
       "      <td>28</td>\n",
       "      <td>15</td>\n",
       "      <td>0</td>\n",
       "      <td>13</td>\n",
       "      <td>0</td>\n",
       "      <td>7742</td>\n",
       "    </tr>\n",
       "    <tr>\n",
       "      <th>4</th>\n",
       "      <td>11210</td>\n",
       "      <td>2010</td>\n",
       "      <td>Jan-Jun 2010</td>\n",
       "      <td>Algeria</td>\n",
       "      <td>Domestic</td>\n",
       "      <td>Goats</td>\n",
       "      <td>748</td>\n",
       "      <td>8</td>\n",
       "      <td>3</td>\n",
       "      <td>0</td>\n",
       "      <td>5</td>\n",
       "      <td>0</td>\n",
       "      <td>7742</td>\n",
       "    </tr>\n",
       "    <tr>\n",
       "      <th>5</th>\n",
       "      <td>11211</td>\n",
       "      <td>2010</td>\n",
       "      <td>Jan-Jun 2010</td>\n",
       "      <td>Algeria</td>\n",
       "      <td>Domestic</td>\n",
       "      <td>Sheep</td>\n",
       "      <td>4478</td>\n",
       "      <td>22</td>\n",
       "      <td>15</td>\n",
       "      <td>0</td>\n",
       "      <td>7</td>\n",
       "      <td>0</td>\n",
       "      <td>7742</td>\n",
       "    </tr>\n",
       "    <tr>\n",
       "      <th>6</th>\n",
       "      <td>11212</td>\n",
       "      <td>2010</td>\n",
       "      <td>Jan-Jun 2010</td>\n",
       "      <td>Algeria</td>\n",
       "      <td>Wild</td>\n",
       "      <td>Wildlife (species unspecified)</td>\n",
       "      <td>1</td>\n",
       "      <td>1</td>\n",
       "      <td>1</td>\n",
       "      <td>0</td>\n",
       "      <td>0</td>\n",
       "      <td>0</td>\n",
       "      <td>7742</td>\n",
       "    </tr>\n",
       "    <tr>\n",
       "      <th>7</th>\n",
       "      <td>11213</td>\n",
       "      <td>2010</td>\n",
       "      <td>Jan-Jun 2010</td>\n",
       "      <td>Angola</td>\n",
       "      <td>Domestic</td>\n",
       "      <td>Cattle</td>\n",
       "      <td>143</td>\n",
       "      <td>1</td>\n",
       "      <td>0</td>\n",
       "      <td>0</td>\n",
       "      <td>1</td>\n",
       "      <td>0</td>\n",
       "      <td>226</td>\n",
       "    </tr>\n",
       "    <tr>\n",
       "      <th>8</th>\n",
       "      <td>11214</td>\n",
       "      <td>2010</td>\n",
       "      <td>Jan-Jun 2010</td>\n",
       "      <td>Angola</td>\n",
       "      <td>Domestic</td>\n",
       "      <td>Dogs</td>\n",
       "      <td>795</td>\n",
       "      <td>13</td>\n",
       "      <td>0</td>\n",
       "      <td>0</td>\n",
       "      <td>13</td>\n",
       "      <td>782</td>\n",
       "      <td>226</td>\n",
       "    </tr>\n",
       "    <tr>\n",
       "      <th>9</th>\n",
       "      <td>11215</td>\n",
       "      <td>2010</td>\n",
       "      <td>Jan-Jun 2010</td>\n",
       "      <td>Benin</td>\n",
       "      <td>Domestic</td>\n",
       "      <td>Dogs</td>\n",
       "      <td>0</td>\n",
       "      <td>1</td>\n",
       "      <td>0</td>\n",
       "      <td>0</td>\n",
       "      <td>1</td>\n",
       "      <td>0</td>\n",
       "      <td>112</td>\n",
       "    </tr>\n",
       "  </tbody>\n",
       "</table>\n",
       "</div>"
      ],
      "text/plain": [
       "   Unnamed: 0  Year      Semester  Country Animal Category  \\\n",
       "0       11206  2010  Jan-Jun 2010  Algeria        Domestic   \n",
       "1       11207  2010  Jan-Jun 2010  Algeria        Domestic   \n",
       "2       11208  2010  Jan-Jun 2010  Algeria        Domestic   \n",
       "3       11209  2010  Jan-Jun 2010  Algeria        Domestic   \n",
       "4       11210  2010  Jan-Jun 2010  Algeria        Domestic   \n",
       "5       11211  2010  Jan-Jun 2010  Algeria        Domestic   \n",
       "6       11212  2010  Jan-Jun 2010  Algeria            Wild   \n",
       "7       11213  2010  Jan-Jun 2010   Angola        Domestic   \n",
       "8       11214  2010  Jan-Jun 2010   Angola        Domestic   \n",
       "9       11215  2010  Jan-Jun 2010    Benin        Domestic   \n",
       "\n",
       "                          Species  Susceptible  Cases  Killed  Slaughtered  \\\n",
       "0                            Cats           53     12       6            0   \n",
       "1                          Cattle         1049     93      47           17   \n",
       "2                            Dogs          550    168     135            0   \n",
       "3                         Equidae           93     28      15            0   \n",
       "4                           Goats          748      8       3            0   \n",
       "5                           Sheep         4478     22      15            0   \n",
       "6  Wildlife (species unspecified)            1      1       1            0   \n",
       "7                          Cattle          143      1       0            0   \n",
       "8                            Dogs          795     13       0            0   \n",
       "9                            Dogs            0      1       0            0   \n",
       "\n",
       "   Deaths  Vaccinated  Total Cases  \n",
       "0       6           0         7742  \n",
       "1      29           0         7742  \n",
       "2      65           0         7742  \n",
       "3      13           0         7742  \n",
       "4       5           0         7742  \n",
       "5       7           0         7742  \n",
       "6       0           0         7742  \n",
       "7       1           0          226  \n",
       "8      13         782          226  \n",
       "9       1           0          112  "
      ]
     },
     "execution_count": 5,
     "metadata": {},
     "output_type": "execute_result"
    }
   ],
   "source": [
    "df_rabies.head(10)"
   ]
  },
  {
   "cell_type": "code",
   "execution_count": 6,
   "id": "526868f9",
   "metadata": {},
   "outputs": [],
   "source": [
    "#Remove categorical columns\n",
    "df_rabies = df_rabies.drop(columns = ['Unnamed: 0', 'Year', 'Semester', 'Country', 'Animal Category', 'Species'])"
   ]
  },
  {
   "cell_type": "code",
   "execution_count": 7,
   "id": "c55df843",
   "metadata": {},
   "outputs": [
    {
     "data": {
      "text/html": [
       "<div>\n",
       "<style scoped>\n",
       "    .dataframe tbody tr th:only-of-type {\n",
       "        vertical-align: middle;\n",
       "    }\n",
       "\n",
       "    .dataframe tbody tr th {\n",
       "        vertical-align: top;\n",
       "    }\n",
       "\n",
       "    .dataframe thead th {\n",
       "        text-align: right;\n",
       "    }\n",
       "</style>\n",
       "<table border=\"1\" class=\"dataframe\">\n",
       "  <thead>\n",
       "    <tr style=\"text-align: right;\">\n",
       "      <th></th>\n",
       "      <th>Susceptible</th>\n",
       "      <th>Cases</th>\n",
       "      <th>Killed</th>\n",
       "      <th>Slaughtered</th>\n",
       "      <th>Deaths</th>\n",
       "      <th>Vaccinated</th>\n",
       "      <th>Total Cases</th>\n",
       "    </tr>\n",
       "  </thead>\n",
       "  <tbody>\n",
       "    <tr>\n",
       "      <th>0</th>\n",
       "      <td>53</td>\n",
       "      <td>12</td>\n",
       "      <td>6</td>\n",
       "      <td>0</td>\n",
       "      <td>6</td>\n",
       "      <td>0</td>\n",
       "      <td>7742</td>\n",
       "    </tr>\n",
       "    <tr>\n",
       "      <th>1</th>\n",
       "      <td>1049</td>\n",
       "      <td>93</td>\n",
       "      <td>47</td>\n",
       "      <td>17</td>\n",
       "      <td>29</td>\n",
       "      <td>0</td>\n",
       "      <td>7742</td>\n",
       "    </tr>\n",
       "    <tr>\n",
       "      <th>2</th>\n",
       "      <td>550</td>\n",
       "      <td>168</td>\n",
       "      <td>135</td>\n",
       "      <td>0</td>\n",
       "      <td>65</td>\n",
       "      <td>0</td>\n",
       "      <td>7742</td>\n",
       "    </tr>\n",
       "    <tr>\n",
       "      <th>3</th>\n",
       "      <td>93</td>\n",
       "      <td>28</td>\n",
       "      <td>15</td>\n",
       "      <td>0</td>\n",
       "      <td>13</td>\n",
       "      <td>0</td>\n",
       "      <td>7742</td>\n",
       "    </tr>\n",
       "    <tr>\n",
       "      <th>4</th>\n",
       "      <td>748</td>\n",
       "      <td>8</td>\n",
       "      <td>3</td>\n",
       "      <td>0</td>\n",
       "      <td>5</td>\n",
       "      <td>0</td>\n",
       "      <td>7742</td>\n",
       "    </tr>\n",
       "    <tr>\n",
       "      <th>5</th>\n",
       "      <td>4478</td>\n",
       "      <td>22</td>\n",
       "      <td>15</td>\n",
       "      <td>0</td>\n",
       "      <td>7</td>\n",
       "      <td>0</td>\n",
       "      <td>7742</td>\n",
       "    </tr>\n",
       "    <tr>\n",
       "      <th>6</th>\n",
       "      <td>1</td>\n",
       "      <td>1</td>\n",
       "      <td>1</td>\n",
       "      <td>0</td>\n",
       "      <td>0</td>\n",
       "      <td>0</td>\n",
       "      <td>7742</td>\n",
       "    </tr>\n",
       "    <tr>\n",
       "      <th>7</th>\n",
       "      <td>143</td>\n",
       "      <td>1</td>\n",
       "      <td>0</td>\n",
       "      <td>0</td>\n",
       "      <td>1</td>\n",
       "      <td>0</td>\n",
       "      <td>226</td>\n",
       "    </tr>\n",
       "    <tr>\n",
       "      <th>8</th>\n",
       "      <td>795</td>\n",
       "      <td>13</td>\n",
       "      <td>0</td>\n",
       "      <td>0</td>\n",
       "      <td>13</td>\n",
       "      <td>782</td>\n",
       "      <td>226</td>\n",
       "    </tr>\n",
       "    <tr>\n",
       "      <th>9</th>\n",
       "      <td>0</td>\n",
       "      <td>1</td>\n",
       "      <td>0</td>\n",
       "      <td>0</td>\n",
       "      <td>1</td>\n",
       "      <td>0</td>\n",
       "      <td>112</td>\n",
       "    </tr>\n",
       "  </tbody>\n",
       "</table>\n",
       "</div>"
      ],
      "text/plain": [
       "   Susceptible  Cases  Killed  Slaughtered  Deaths  Vaccinated  Total Cases\n",
       "0           53     12       6            0       6           0         7742\n",
       "1         1049     93      47           17      29           0         7742\n",
       "2          550    168     135            0      65           0         7742\n",
       "3           93     28      15            0      13           0         7742\n",
       "4          748      8       3            0       5           0         7742\n",
       "5         4478     22      15            0       7           0         7742\n",
       "6            1      1       1            0       0           0         7742\n",
       "7          143      1       0            0       1           0          226\n",
       "8          795     13       0            0      13         782          226\n",
       "9            0      1       0            0       1           0          112"
      ]
     },
     "execution_count": 7,
     "metadata": {},
     "output_type": "execute_result"
    }
   ],
   "source": [
    "df_rabies.head(10)"
   ]
  },
  {
   "cell_type": "code",
   "execution_count": 8,
   "id": "de8c70b0",
   "metadata": {},
   "outputs": [
    {
     "data": {
      "text/html": [
       "<div>\n",
       "<style scoped>\n",
       "    .dataframe tbody tr th:only-of-type {\n",
       "        vertical-align: middle;\n",
       "    }\n",
       "\n",
       "    .dataframe tbody tr th {\n",
       "        vertical-align: top;\n",
       "    }\n",
       "\n",
       "    .dataframe thead th {\n",
       "        text-align: right;\n",
       "    }\n",
       "</style>\n",
       "<table border=\"1\" class=\"dataframe\">\n",
       "  <thead>\n",
       "    <tr style=\"text-align: right;\">\n",
       "      <th></th>\n",
       "      <th>Susceptible</th>\n",
       "      <th>Cases</th>\n",
       "      <th>Killed</th>\n",
       "      <th>Slaughtered</th>\n",
       "      <th>Deaths</th>\n",
       "      <th>Vaccinated</th>\n",
       "      <th>Total Cases</th>\n",
       "    </tr>\n",
       "  </thead>\n",
       "  <tbody>\n",
       "    <tr>\n",
       "      <th>count</th>\n",
       "      <td>2.595200e+04</td>\n",
       "      <td>25952.000000</td>\n",
       "      <td>25952.000000</td>\n",
       "      <td>25952.000000</td>\n",
       "      <td>25952.000000</td>\n",
       "      <td>2.595200e+04</td>\n",
       "      <td>25952.000000</td>\n",
       "    </tr>\n",
       "    <tr>\n",
       "      <th>mean</th>\n",
       "      <td>3.822893e+03</td>\n",
       "      <td>7.446401</td>\n",
       "      <td>2.330919</td>\n",
       "      <td>0.135789</td>\n",
       "      <td>5.962546</td>\n",
       "      <td>4.218992e+03</td>\n",
       "      <td>7020.824638</td>\n",
       "    </tr>\n",
       "    <tr>\n",
       "      <th>std</th>\n",
       "      <td>1.739252e+05</td>\n",
       "      <td>35.678112</td>\n",
       "      <td>31.955536</td>\n",
       "      <td>6.198928</td>\n",
       "      <td>31.895096</td>\n",
       "      <td>3.680454e+05</td>\n",
       "      <td>7158.797751</td>\n",
       "    </tr>\n",
       "    <tr>\n",
       "      <th>min</th>\n",
       "      <td>0.000000e+00</td>\n",
       "      <td>0.000000</td>\n",
       "      <td>0.000000</td>\n",
       "      <td>0.000000</td>\n",
       "      <td>0.000000</td>\n",
       "      <td>0.000000e+00</td>\n",
       "      <td>1.000000</td>\n",
       "    </tr>\n",
       "    <tr>\n",
       "      <th>25%</th>\n",
       "      <td>0.000000e+00</td>\n",
       "      <td>1.000000</td>\n",
       "      <td>0.000000</td>\n",
       "      <td>0.000000</td>\n",
       "      <td>1.000000</td>\n",
       "      <td>0.000000e+00</td>\n",
       "      <td>1169.000000</td>\n",
       "    </tr>\n",
       "    <tr>\n",
       "      <th>50%</th>\n",
       "      <td>0.000000e+00</td>\n",
       "      <td>2.000000</td>\n",
       "      <td>0.000000</td>\n",
       "      <td>0.000000</td>\n",
       "      <td>2.000000</td>\n",
       "      <td>0.000000e+00</td>\n",
       "      <td>3951.000000</td>\n",
       "    </tr>\n",
       "    <tr>\n",
       "      <th>75%</th>\n",
       "      <td>2.400000e+01</td>\n",
       "      <td>6.000000</td>\n",
       "      <td>0.000000</td>\n",
       "      <td>0.000000</td>\n",
       "      <td>5.000000</td>\n",
       "      <td>0.000000e+00</td>\n",
       "      <td>11123.000000</td>\n",
       "    </tr>\n",
       "    <tr>\n",
       "      <th>max</th>\n",
       "      <td>1.278000e+07</td>\n",
       "      <td>3226.000000</td>\n",
       "      <td>2224.000000</td>\n",
       "      <td>823.000000</td>\n",
       "      <td>3226.000000</td>\n",
       "      <td>4.775152e+07</td>\n",
       "      <td>20587.000000</td>\n",
       "    </tr>\n",
       "  </tbody>\n",
       "</table>\n",
       "</div>"
      ],
      "text/plain": [
       "        Susceptible         Cases        Killed   Slaughtered        Deaths  \\\n",
       "count  2.595200e+04  25952.000000  25952.000000  25952.000000  25952.000000   \n",
       "mean   3.822893e+03      7.446401      2.330919      0.135789      5.962546   \n",
       "std    1.739252e+05     35.678112     31.955536      6.198928     31.895096   \n",
       "min    0.000000e+00      0.000000      0.000000      0.000000      0.000000   \n",
       "25%    0.000000e+00      1.000000      0.000000      0.000000      1.000000   \n",
       "50%    0.000000e+00      2.000000      0.000000      0.000000      2.000000   \n",
       "75%    2.400000e+01      6.000000      0.000000      0.000000      5.000000   \n",
       "max    1.278000e+07   3226.000000   2224.000000    823.000000   3226.000000   \n",
       "\n",
       "         Vaccinated   Total Cases  \n",
       "count  2.595200e+04  25952.000000  \n",
       "mean   4.218992e+03   7020.824638  \n",
       "std    3.680454e+05   7158.797751  \n",
       "min    0.000000e+00      1.000000  \n",
       "25%    0.000000e+00   1169.000000  \n",
       "50%    0.000000e+00   3951.000000  \n",
       "75%    0.000000e+00  11123.000000  \n",
       "max    4.775152e+07  20587.000000  "
      ]
     },
     "execution_count": 8,
     "metadata": {},
     "output_type": "execute_result"
    }
   ],
   "source": [
    "df_rabies.describe()"
   ]
  },
  {
   "cell_type": "markdown",
   "id": "3fff7a99",
   "metadata": {},
   "source": [
    "## Elbow Curve\n",
    "<a id='elb'></a>"
   ]
  },
  {
   "cell_type": "code",
   "execution_count": 9,
   "id": "f89a3d38",
   "metadata": {},
   "outputs": [],
   "source": [
    "# Create elbow data to determine cluster number\n",
    "num_cl = range(1,10)\n",
    "kmeans = [KMeans(n_clusters = i) for i in num_cl]"
   ]
  },
  {
   "cell_type": "code",
   "execution_count": 10,
   "id": "13360c5b",
   "metadata": {},
   "outputs": [],
   "source": [
    "#Elbow score\n",
    "score = [kmeans[i].fit(df_rabies).score(df_rabies) for i in range (len(kmeans))]"
   ]
  },
  {
   "cell_type": "code",
   "execution_count": 11,
   "id": "fde21841",
   "metadata": {},
   "outputs": [
    {
     "data": {
      "image/png": "[encoded data removed]",
      "text/plain": [
       "<Figure size 432x288 with 1 Axes>"
      ]
     },
     "metadata": {
      "needs_background": "light"
     },
     "output_type": "display_data"
    }
   ],
   "source": [
    "#Plot elbow curve\n",
    "pl.plot(num_cl, score)\n",
    "pl.xlabel('Number of Clusters')\n",
    "pl.ylabel('Score')\n",
    "pl.title('Elbow Curve')\n",
    "pl.show()  #  3 clusters looks like the ideal number for this data set as that is where it starts to plateau"
   ]
  },
  {
   "cell_type": "markdown",
   "id": "2ad4df18",
   "metadata": {},
   "source": [
    "## Kmeans Cluster\n",
    "<a id='kme'></a>"
   ]
  },
  {
   "cell_type": "code",
   "execution_count": 13,
   "id": "0b40317d",
   "metadata": {},
   "outputs": [],
   "source": [
    "#Create kmeans with appropriate cluster number\n",
    "kmeans = KMeans(n_clusters = 3)"
   ]
  },
  {
   "cell_type": "code",
   "execution_count": 14,
   "id": "ff8992b3",
   "metadata": {},
   "outputs": [
    {
     "data": {
      "text/plain": [
       "KMeans(n_clusters=3)"
      ]
     },
     "execution_count": 14,
     "metadata": {},
     "output_type": "execute_result"
    }
   ],
   "source": [
    "#Fit the data to the kmeans\n",
    "kmeans.fit(df_rabies)"
   ]
  },
  {
   "cell_type": "code",
   "execution_count": 15,
   "id": "7501e86a",
   "metadata": {},
   "outputs": [],
   "source": [
    "df_rabies['clusters'] = kmeans.fit_predict(df_rabies)"
   ]
  },
  {
   "cell_type": "code",
   "execution_count": 16,
   "id": "bc21fee2",
   "metadata": {},
   "outputs": [
    {
     "data": {
      "text/html": [
       "<div>\n",
       "<style scoped>\n",
       "    .dataframe tbody tr th:only-of-type {\n",
       "        vertical-align: middle;\n",
       "    }\n",
       "\n",
       "    .dataframe tbody tr th {\n",
       "        vertical-align: top;\n",
       "    }\n",
       "\n",
       "    .dataframe thead th {\n",
       "        text-align: right;\n",
       "    }\n",
       "</style>\n",
       "<table border=\"1\" class=\"dataframe\">\n",
       "  <thead>\n",
       "    <tr style=\"text-align: right;\">\n",
       "      <th></th>\n",
       "      <th>Susceptible</th>\n",
       "      <th>Cases</th>\n",
       "      <th>Killed</th>\n",
       "      <th>Slaughtered</th>\n",
       "      <th>Deaths</th>\n",
       "      <th>Vaccinated</th>\n",
       "      <th>Total Cases</th>\n",
       "      <th>clusters</th>\n",
       "    </tr>\n",
       "  </thead>\n",
       "  <tbody>\n",
       "    <tr>\n",
       "      <th>0</th>\n",
       "      <td>53</td>\n",
       "      <td>12</td>\n",
       "      <td>6</td>\n",
       "      <td>0</td>\n",
       "      <td>6</td>\n",
       "      <td>0</td>\n",
       "      <td>7742</td>\n",
       "      <td>0</td>\n",
       "    </tr>\n",
       "    <tr>\n",
       "      <th>1</th>\n",
       "      <td>1049</td>\n",
       "      <td>93</td>\n",
       "      <td>47</td>\n",
       "      <td>17</td>\n",
       "      <td>29</td>\n",
       "      <td>0</td>\n",
       "      <td>7742</td>\n",
       "      <td>0</td>\n",
       "    </tr>\n",
       "    <tr>\n",
       "      <th>2</th>\n",
       "      <td>550</td>\n",
       "      <td>168</td>\n",
       "      <td>135</td>\n",
       "      <td>0</td>\n",
       "      <td>65</td>\n",
       "      <td>0</td>\n",
       "      <td>7742</td>\n",
       "      <td>0</td>\n",
       "    </tr>\n",
       "    <tr>\n",
       "      <th>3</th>\n",
       "      <td>93</td>\n",
       "      <td>28</td>\n",
       "      <td>15</td>\n",
       "      <td>0</td>\n",
       "      <td>13</td>\n",
       "      <td>0</td>\n",
       "      <td>7742</td>\n",
       "      <td>0</td>\n",
       "    </tr>\n",
       "    <tr>\n",
       "      <th>4</th>\n",
       "      <td>748</td>\n",
       "      <td>8</td>\n",
       "      <td>3</td>\n",
       "      <td>0</td>\n",
       "      <td>5</td>\n",
       "      <td>0</td>\n",
       "      <td>7742</td>\n",
       "      <td>0</td>\n",
       "    </tr>\n",
       "    <tr>\n",
       "      <th>5</th>\n",
       "      <td>4478</td>\n",
       "      <td>22</td>\n",
       "      <td>15</td>\n",
       "      <td>0</td>\n",
       "      <td>7</td>\n",
       "      <td>0</td>\n",
       "      <td>7742</td>\n",
       "      <td>0</td>\n",
       "    </tr>\n",
       "    <tr>\n",
       "      <th>6</th>\n",
       "      <td>1</td>\n",
       "      <td>1</td>\n",
       "      <td>1</td>\n",
       "      <td>0</td>\n",
       "      <td>0</td>\n",
       "      <td>0</td>\n",
       "      <td>7742</td>\n",
       "      <td>0</td>\n",
       "    </tr>\n",
       "    <tr>\n",
       "      <th>7</th>\n",
       "      <td>143</td>\n",
       "      <td>1</td>\n",
       "      <td>0</td>\n",
       "      <td>0</td>\n",
       "      <td>1</td>\n",
       "      <td>0</td>\n",
       "      <td>226</td>\n",
       "      <td>0</td>\n",
       "    </tr>\n",
       "    <tr>\n",
       "      <th>8</th>\n",
       "      <td>795</td>\n",
       "      <td>13</td>\n",
       "      <td>0</td>\n",
       "      <td>0</td>\n",
       "      <td>13</td>\n",
       "      <td>782</td>\n",
       "      <td>226</td>\n",
       "      <td>0</td>\n",
       "    </tr>\n",
       "    <tr>\n",
       "      <th>9</th>\n",
       "      <td>0</td>\n",
       "      <td>1</td>\n",
       "      <td>0</td>\n",
       "      <td>0</td>\n",
       "      <td>1</td>\n",
       "      <td>0</td>\n",
       "      <td>112</td>\n",
       "      <td>0</td>\n",
       "    </tr>\n",
       "  </tbody>\n",
       "</table>\n",
       "</div>"
      ],
      "text/plain": [
       "   Susceptible  Cases  Killed  Slaughtered  Deaths  Vaccinated  Total Cases  \\\n",
       "0           53     12       6            0       6           0         7742   \n",
       "1         1049     93      47           17      29           0         7742   \n",
       "2          550    168     135            0      65           0         7742   \n",
       "3           93     28      15            0      13           0         7742   \n",
       "4          748      8       3            0       5           0         7742   \n",
       "5         4478     22      15            0       7           0         7742   \n",
       "6            1      1       1            0       0           0         7742   \n",
       "7          143      1       0            0       1           0          226   \n",
       "8          795     13       0            0      13         782          226   \n",
       "9            0      1       0            0       1           0          112   \n",
       "\n",
       "   clusters  \n",
       "0         0  \n",
       "1         0  \n",
       "2         0  \n",
       "3         0  \n",
       "4         0  \n",
       "5         0  \n",
       "6         0  \n",
       "7         0  \n",
       "8         0  \n",
       "9         0  "
      ]
     },
     "execution_count": 16,
     "metadata": {},
     "output_type": "execute_result"
    }
   ],
   "source": [
    "df_rabies.head(10)"
   ]
  },
  {
   "cell_type": "code",
   "execution_count": 17,
   "id": "b516fc21",
   "metadata": {},
   "outputs": [
    {
     "data": {
      "text/plain": [
       "0    25942\n",
       "2        8\n",
       "1        2\n",
       "Name: clusters, dtype: int64"
      ]
     },
     "execution_count": 17,
     "metadata": {},
     "output_type": "execute_result"
    }
   ],
   "source": [
    "# Count the clusters values\n",
    "df_rabies['clusters'].value_counts()\n",
    "# These values make me think the values in the various variables are too extreme, creating too much weight for certain variables"
   ]
  },
  {
   "cell_type": "code",
   "execution_count": 18,
   "id": "bce19403",
   "metadata": {},
   "outputs": [
    {
     "data": {
      "image/png": "[encoded data removed]",
      "text/plain": [
       "<Figure size 864x576 with 1 Axes>"
      ]
     },
     "metadata": {
      "needs_background": "light"
     },
     "output_type": "display_data"
    }
   ],
   "source": [
    "# Plots based on clusters\n",
    "plt.figure(figsize = (12,8))\n",
    "ax = sns.scatterplot(x = df_rabies['Cases'], y = df_rabies['Deaths'], hue = kmeans.labels_, s = 100)\n",
    "ax.grid(False)\n",
    "plt.xlabel('Cases')\n",
    "plt.ylabel('Deaths')\n",
    "plt.show()"
   ]
  },
  {
   "cell_type": "code",
   "execution_count": 19,
   "id": "b4ab7358",
   "metadata": {},
   "outputs": [],
   "source": [
    "# Need to standardize the data to prevent the weight all shifting to one variable.  Remove clusters column:\n",
    "df_rabies = df_rabies.drop(columns = ['clusters'])"
   ]
  },
  {
   "cell_type": "code",
   "execution_count": 20,
   "id": "f01ce76e",
   "metadata": {},
   "outputs": [
    {
     "data": {
      "text/html": [
       "<div>\n",
       "<style scoped>\n",
       "    .dataframe tbody tr th:only-of-type {\n",
       "        vertical-align: middle;\n",
       "    }\n",
       "\n",
       "    .dataframe tbody tr th {\n",
       "        vertical-align: top;\n",
       "    }\n",
       "\n",
       "    .dataframe thead th {\n",
       "        text-align: right;\n",
       "    }\n",
       "</style>\n",
       "<table border=\"1\" class=\"dataframe\">\n",
       "  <thead>\n",
       "    <tr style=\"text-align: right;\">\n",
       "      <th></th>\n",
       "      <th>Susceptible</th>\n",
       "      <th>Cases</th>\n",
       "      <th>Killed</th>\n",
       "      <th>Slaughtered</th>\n",
       "      <th>Deaths</th>\n",
       "      <th>Vaccinated</th>\n",
       "      <th>Total Cases</th>\n",
       "    </tr>\n",
       "  </thead>\n",
       "  <tbody>\n",
       "    <tr>\n",
       "      <th>0</th>\n",
       "      <td>53</td>\n",
       "      <td>12</td>\n",
       "      <td>6</td>\n",
       "      <td>0</td>\n",
       "      <td>6</td>\n",
       "      <td>0</td>\n",
       "      <td>7742</td>\n",
       "    </tr>\n",
       "    <tr>\n",
       "      <th>1</th>\n",
       "      <td>1049</td>\n",
       "      <td>93</td>\n",
       "      <td>47</td>\n",
       "      <td>17</td>\n",
       "      <td>29</td>\n",
       "      <td>0</td>\n",
       "      <td>7742</td>\n",
       "    </tr>\n",
       "    <tr>\n",
       "      <th>2</th>\n",
       "      <td>550</td>\n",
       "      <td>168</td>\n",
       "      <td>135</td>\n",
       "      <td>0</td>\n",
       "      <td>65</td>\n",
       "      <td>0</td>\n",
       "      <td>7742</td>\n",
       "    </tr>\n",
       "    <tr>\n",
       "      <th>3</th>\n",
       "      <td>93</td>\n",
       "      <td>28</td>\n",
       "      <td>15</td>\n",
       "      <td>0</td>\n",
       "      <td>13</td>\n",
       "      <td>0</td>\n",
       "      <td>7742</td>\n",
       "    </tr>\n",
       "    <tr>\n",
       "      <th>4</th>\n",
       "      <td>748</td>\n",
       "      <td>8</td>\n",
       "      <td>3</td>\n",
       "      <td>0</td>\n",
       "      <td>5</td>\n",
       "      <td>0</td>\n",
       "      <td>7742</td>\n",
       "    </tr>\n",
       "    <tr>\n",
       "      <th>5</th>\n",
       "      <td>4478</td>\n",
       "      <td>22</td>\n",
       "      <td>15</td>\n",
       "      <td>0</td>\n",
       "      <td>7</td>\n",
       "      <td>0</td>\n",
       "      <td>7742</td>\n",
       "    </tr>\n",
       "    <tr>\n",
       "      <th>6</th>\n",
       "      <td>1</td>\n",
       "      <td>1</td>\n",
       "      <td>1</td>\n",
       "      <td>0</td>\n",
       "      <td>0</td>\n",
       "      <td>0</td>\n",
       "      <td>7742</td>\n",
       "    </tr>\n",
       "    <tr>\n",
       "      <th>7</th>\n",
       "      <td>143</td>\n",
       "      <td>1</td>\n",
       "      <td>0</td>\n",
       "      <td>0</td>\n",
       "      <td>1</td>\n",
       "      <td>0</td>\n",
       "      <td>226</td>\n",
       "    </tr>\n",
       "    <tr>\n",
       "      <th>8</th>\n",
       "      <td>795</td>\n",
       "      <td>13</td>\n",
       "      <td>0</td>\n",
       "      <td>0</td>\n",
       "      <td>13</td>\n",
       "      <td>782</td>\n",
       "      <td>226</td>\n",
       "    </tr>\n",
       "    <tr>\n",
       "      <th>9</th>\n",
       "      <td>0</td>\n",
       "      <td>1</td>\n",
       "      <td>0</td>\n",
       "      <td>0</td>\n",
       "      <td>1</td>\n",
       "      <td>0</td>\n",
       "      <td>112</td>\n",
       "    </tr>\n",
       "  </tbody>\n",
       "</table>\n",
       "</div>"
      ],
      "text/plain": [
       "   Susceptible  Cases  Killed  Slaughtered  Deaths  Vaccinated  Total Cases\n",
       "0           53     12       6            0       6           0         7742\n",
       "1         1049     93      47           17      29           0         7742\n",
       "2          550    168     135            0      65           0         7742\n",
       "3           93     28      15            0      13           0         7742\n",
       "4          748      8       3            0       5           0         7742\n",
       "5         4478     22      15            0       7           0         7742\n",
       "6            1      1       1            0       0           0         7742\n",
       "7          143      1       0            0       1           0          226\n",
       "8          795     13       0            0      13         782          226\n",
       "9            0      1       0            0       1           0          112"
      ]
     },
     "execution_count": 20,
     "metadata": {},
     "output_type": "execute_result"
    }
   ],
   "source": [
    "df_rabies.head(10)"
   ]
  },
  {
   "cell_type": "markdown",
   "id": "710ed7c6",
   "metadata": {},
   "source": [
    "## Standardize Data\n",
    "<a id='stand'></a>"
   ]
  },
  {
   "cell_type": "code",
   "execution_count": 21,
   "id": "bd6fc394",
   "metadata": {},
   "outputs": [],
   "source": [
    "#Import required libraries\n",
    "from sklearn.preprocessing import StandardScaler\n",
    "from sklearn.decomposition import PCA"
   ]
  },
  {
   "cell_type": "code",
   "execution_count": 22,
   "id": "05115513",
   "metadata": {},
   "outputs": [],
   "source": [
    "# Standardize data\n",
    "scaler = StandardScaler()\n",
    "segmentation_std = scaler.fit_transform(df_rabies)"
   ]
  },
  {
   "cell_type": "code",
   "execution_count": 23,
   "id": "d9a75177",
   "metadata": {},
   "outputs": [
    {
     "data": {
      "text/plain": [
       "PCA()"
      ]
     },
     "execution_count": 23,
     "metadata": {},
     "output_type": "execute_result"
    }
   ],
   "source": [
    "# Use PCA to reduce dimensionality\n",
    "pca = PCA()\n",
    "pca.fit(segmentation_std)"
   ]
  },
  {
   "cell_type": "code",
   "execution_count": 24,
   "id": "43877d17",
   "metadata": {},
   "outputs": [
    {
     "data": {
      "text/plain": [
       "Text(0, 0.5, 'Cumulative Explained Variance')"
      ]
     },
     "execution_count": 24,
     "metadata": {},
     "output_type": "execute_result"
    },
    {
     "data": {
      "image/png": "[encoded data removed]",
      "text/plain": [
       "<Figure size 720x576 with 1 Axes>"
      ]
     },
     "metadata": {
      "needs_background": "light"
     },
     "output_type": "display_data"
    }
   ],
   "source": [
    "#Plot the curve of the resulting data\n",
    "plt.figure(figsize = (10,8))\n",
    "plt.plot(range (1, 8), pca.explained_variance_ratio_.cumsum(),marker = 'o', linestyle = '--')\n",
    "plt.title('Explained Variance by Components')\n",
    "plt.xlabel('Number of Components')\n",
    "plt.ylabel('Cumulative Explained Variance')"
   ]
  },
  {
   "cell_type": "code",
   "execution_count": 25,
   "id": "68f56be0",
   "metadata": {},
   "outputs": [
    {
     "data": {
      "text/plain": [
       "PCA(n_components=5)"
      ]
     },
     "execution_count": 25,
     "metadata": {},
     "output_type": "execute_result"
    }
   ],
   "source": [
    "# Rule of thumb to keep 80%, will keep 5 components\n",
    "pca = PCA(n_components = 5)\n",
    "pca.fit(segmentation_std)"
   ]
  },
  {
   "cell_type": "code",
   "execution_count": 26,
   "id": "4ab2ae6f",
   "metadata": {},
   "outputs": [],
   "source": [
    "# Calculate resulting component scores for elements of data set\n",
    "pca.transform(segmentation_std)\n",
    "score_pca = pca.transform(segmentation_std)"
   ]
  },
  {
   "cell_type": "markdown",
   "id": "fe10d247",
   "metadata": {},
   "source": [
    "## Repeat Elbow Curve\n",
    "<a id='repel'></a>"
   ]
  },
  {
   "cell_type": "code",
   "execution_count": 27,
   "id": "246dcb5d",
   "metadata": {},
   "outputs": [],
   "source": [
    "# Rerun elbow method using score_pca data\n",
    "num_cl2 = range(1,10)\n",
    "kmeans2 = [KMeans(n_clusters = i)for i in num_cl2]"
   ]
  },
  {
   "cell_type": "code",
   "execution_count": 28,
   "id": "eb560be2",
   "metadata": {},
   "outputs": [],
   "source": [
    "score2 = [kmeans2[i].fit(score_pca).score(score_pca) for i in range(len(kmeans2))]"
   ]
  },
  {
   "cell_type": "code",
   "execution_count": 29,
   "id": "b3939109",
   "metadata": {},
   "outputs": [
    {
     "data": {
      "image/png": "[encoded data removed]",
      "text/plain": [
       "<Figure size 432x288 with 1 Axes>"
      ]
     },
     "metadata": {
      "needs_background": "light"
     },
     "output_type": "display_data"
    }
   ],
   "source": [
    "pl.plot(num_cl2, score2)\n",
    "pl.xlabel('Number of Clusters')\n",
    "pl.ylabel('Score')\n",
    "pl.title('Elbow Curve')\n",
    "pl.show() # this standardized data shows a need for 6 clusters for running kmeans"
   ]
  },
  {
   "cell_type": "markdown",
   "id": "8fed96e5",
   "metadata": {},
   "source": [
    "## Repeat Kmeans Cluster\n",
    "<a id='repkme'></a>"
   ]
  },
  {
   "cell_type": "code",
   "execution_count": 30,
   "id": "c62186dc",
   "metadata": {},
   "outputs": [],
   "source": [
    "#Repeat kmeans using 6 clusters on standardized data\n",
    "kmeans2 = KMeans(n_clusters = 6)"
   ]
  },
  {
   "cell_type": "code",
   "execution_count": 31,
   "id": "71d9195e",
   "metadata": {},
   "outputs": [
    {
     "data": {
      "text/plain": [
       "KMeans(n_clusters=6)"
      ]
     },
     "execution_count": 31,
     "metadata": {},
     "output_type": "execute_result"
    }
   ],
   "source": [
    "kmeans2.fit(score_pca)"
   ]
  },
  {
   "cell_type": "code",
   "execution_count": 32,
   "id": "bef02ca1",
   "metadata": {},
   "outputs": [],
   "source": [
    "#Combine original data frame with results of standardization\n",
    "df_combo = pd.concat([df_rabies.reset_index(drop=True), pd.DataFrame(score_pca)], axis = 1)\n",
    "df_combo.columns.values[-5:] = ['Component 1', 'Component 2', 'Component 3', 'Component 4', 'Component 5']\n",
    "df_combo['Segment K-means PCA'] = kmeans2.labels_"
   ]
  },
  {
   "cell_type": "code",
   "execution_count": 33,
   "id": "d81c49f0",
   "metadata": {},
   "outputs": [
    {
     "data": {
      "text/html": [
       "<div>\n",
       "<style scoped>\n",
       "    .dataframe tbody tr th:only-of-type {\n",
       "        vertical-align: middle;\n",
       "    }\n",
       "\n",
       "    .dataframe tbody tr th {\n",
       "        vertical-align: top;\n",
       "    }\n",
       "\n",
       "    .dataframe thead th {\n",
       "        text-align: right;\n",
       "    }\n",
       "</style>\n",
       "<table border=\"1\" class=\"dataframe\">\n",
       "  <thead>\n",
       "    <tr style=\"text-align: right;\">\n",
       "      <th></th>\n",
       "      <th>Susceptible</th>\n",
       "      <th>Cases</th>\n",
       "      <th>Killed</th>\n",
       "      <th>Slaughtered</th>\n",
       "      <th>Deaths</th>\n",
       "      <th>Vaccinated</th>\n",
       "      <th>Total Cases</th>\n",
       "      <th>Component 1</th>\n",
       "      <th>Component 2</th>\n",
       "      <th>Component 3</th>\n",
       "      <th>Component 4</th>\n",
       "      <th>Component 5</th>\n",
       "      <th>Segment K-means PCA</th>\n",
       "    </tr>\n",
       "  </thead>\n",
       "  <tbody>\n",
       "    <tr>\n",
       "      <th>0</th>\n",
       "      <td>53</td>\n",
       "      <td>12</td>\n",
       "      <td>6</td>\n",
       "      <td>0</td>\n",
       "      <td>6</td>\n",
       "      <td>0</td>\n",
       "      <td>7742</td>\n",
       "      <td>0.111064</td>\n",
       "      <td>0.000907</td>\n",
       "      <td>-0.033709</td>\n",
       "      <td>0.053531</td>\n",
       "      <td>-0.084853</td>\n",
       "      <td>0</td>\n",
       "    </tr>\n",
       "    <tr>\n",
       "      <th>1</th>\n",
       "      <td>1049</td>\n",
       "      <td>93</td>\n",
       "      <td>47</td>\n",
       "      <td>17</td>\n",
       "      <td>29</td>\n",
       "      <td>0</td>\n",
       "      <td>7742</td>\n",
       "      <td>2.542090</td>\n",
       "      <td>0.137947</td>\n",
       "      <td>2.276493</td>\n",
       "      <td>1.530587</td>\n",
       "      <td>0.314037</td>\n",
       "      <td>0</td>\n",
       "    </tr>\n",
       "    <tr>\n",
       "      <th>2</th>\n",
       "      <td>550</td>\n",
       "      <td>168</td>\n",
       "      <td>135</td>\n",
       "      <td>0</td>\n",
       "      <td>65</td>\n",
       "      <td>0</td>\n",
       "      <td>7742</td>\n",
       "      <td>5.248058</td>\n",
       "      <td>0.892871</td>\n",
       "      <td>0.633192</td>\n",
       "      <td>-0.287911</td>\n",
       "      <td>-1.058900</td>\n",
       "      <td>0</td>\n",
       "    </tr>\n",
       "    <tr>\n",
       "      <th>3</th>\n",
       "      <td>93</td>\n",
       "      <td>28</td>\n",
       "      <td>15</td>\n",
       "      <td>0</td>\n",
       "      <td>13</td>\n",
       "      <td>0</td>\n",
       "      <td>7742</td>\n",
       "      <td>0.621584</td>\n",
       "      <td>0.002644</td>\n",
       "      <td>0.022498</td>\n",
       "      <td>0.010771</td>\n",
       "      <td>-0.151021</td>\n",
       "      <td>0</td>\n",
       "    </tr>\n",
       "    <tr>\n",
       "      <th>4</th>\n",
       "      <td>748</td>\n",
       "      <td>8</td>\n",
       "      <td>3</td>\n",
       "      <td>0</td>\n",
       "      <td>5</td>\n",
       "      <td>0</td>\n",
       "      <td>7742</td>\n",
       "      <td>-0.006686</td>\n",
       "      <td>-0.018135</td>\n",
       "      <td>-0.050355</td>\n",
       "      <td>0.061200</td>\n",
       "      <td>-0.062638</td>\n",
       "      <td>0</td>\n",
       "    </tr>\n",
       "    <tr>\n",
       "      <th>5</th>\n",
       "      <td>4478</td>\n",
       "      <td>22</td>\n",
       "      <td>15</td>\n",
       "      <td>0</td>\n",
       "      <td>7</td>\n",
       "      <td>0</td>\n",
       "      <td>7742</td>\n",
       "      <td>0.396887</td>\n",
       "      <td>0.113310</td>\n",
       "      <td>0.007876</td>\n",
       "      <td>0.042350</td>\n",
       "      <td>-0.158288</td>\n",
       "      <td>0</td>\n",
       "    </tr>\n",
       "    <tr>\n",
       "      <th>6</th>\n",
       "      <td>1</td>\n",
       "      <td>1</td>\n",
       "      <td>1</td>\n",
       "      <td>0</td>\n",
       "      <td>0</td>\n",
       "      <td>0</td>\n",
       "      <td>7742</td>\n",
       "      <td>-0.253946</td>\n",
       "      <td>0.033151</td>\n",
       "      <td>-0.068996</td>\n",
       "      <td>0.087993</td>\n",
       "      <td>-0.049290</td>\n",
       "      <td>0</td>\n",
       "    </tr>\n",
       "    <tr>\n",
       "      <th>7</th>\n",
       "      <td>143</td>\n",
       "      <td>1</td>\n",
       "      <td>0</td>\n",
       "      <td>0</td>\n",
       "      <td>1</td>\n",
       "      <td>0</td>\n",
       "      <td>226</td>\n",
       "      <td>-0.283395</td>\n",
       "      <td>0.233191</td>\n",
       "      <td>0.391593</td>\n",
       "      <td>-0.700791</td>\n",
       "      <td>0.424664</td>\n",
       "      <td>0</td>\n",
       "    </tr>\n",
       "    <tr>\n",
       "      <th>8</th>\n",
       "      <td>795</td>\n",
       "      <td>13</td>\n",
       "      <td>0</td>\n",
       "      <td>0</td>\n",
       "      <td>13</td>\n",
       "      <td>782</td>\n",
       "      <td>226</td>\n",
       "      <td>0.180205</td>\n",
       "      <td>0.046571</td>\n",
       "      <td>0.413338</td>\n",
       "      <td>-0.761016</td>\n",
       "      <td>0.432763</td>\n",
       "      <td>0</td>\n",
       "    </tr>\n",
       "    <tr>\n",
       "      <th>9</th>\n",
       "      <td>0</td>\n",
       "      <td>1</td>\n",
       "      <td>0</td>\n",
       "      <td>0</td>\n",
       "      <td>1</td>\n",
       "      <td>0</td>\n",
       "      <td>112</td>\n",
       "      <td>-0.284235</td>\n",
       "      <td>0.236125</td>\n",
       "      <td>0.398722</td>\n",
       "      <td>-0.712728</td>\n",
       "      <td>0.431851</td>\n",
       "      <td>0</td>\n",
       "    </tr>\n",
       "  </tbody>\n",
       "</table>\n",
       "</div>"
      ],
      "text/plain": [
       "   Susceptible  Cases  Killed  Slaughtered  Deaths  Vaccinated  Total Cases  \\\n",
       "0           53     12       6            0       6           0         7742   \n",
       "1         1049     93      47           17      29           0         7742   \n",
       "2          550    168     135            0      65           0         7742   \n",
       "3           93     28      15            0      13           0         7742   \n",
       "4          748      8       3            0       5           0         7742   \n",
       "5         4478     22      15            0       7           0         7742   \n",
       "6            1      1       1            0       0           0         7742   \n",
       "7          143      1       0            0       1           0          226   \n",
       "8          795     13       0            0      13         782          226   \n",
       "9            0      1       0            0       1           0          112   \n",
       "\n",
       "   Component 1  Component 2  Component 3  Component 4  Component 5  \\\n",
       "0     0.111064     0.000907    -0.033709     0.053531    -0.084853   \n",
       "1     2.542090     0.137947     2.276493     1.530587     0.314037   \n",
       "2     5.248058     0.892871     0.633192    -0.287911    -1.058900   \n",
       "3     0.621584     0.002644     0.022498     0.010771    -0.151021   \n",
       "4    -0.006686    -0.018135    -0.050355     0.061200    -0.062638   \n",
       "5     0.396887     0.113310     0.007876     0.042350    -0.158288   \n",
       "6    -0.253946     0.033151    -0.068996     0.087993    -0.049290   \n",
       "7    -0.283395     0.233191     0.391593    -0.700791     0.424664   \n",
       "8     0.180205     0.046571     0.413338    -0.761016     0.432763   \n",
       "9    -0.284235     0.236125     0.398722    -0.712728     0.431851   \n",
       "\n",
       "   Segment K-means PCA  \n",
       "0                    0  \n",
       "1                    0  \n",
       "2                    0  \n",
       "3                    0  \n",
       "4                    0  \n",
       "5                    0  \n",
       "6                    0  \n",
       "7                    0  \n",
       "8                    0  \n",
       "9                    0  "
      ]
     },
     "execution_count": 33,
     "metadata": {},
     "output_type": "execute_result"
    }
   ],
   "source": [
    "df_combo.head(10)"
   ]
  },
  {
   "cell_type": "code",
   "execution_count": 34,
   "id": "092cffed",
   "metadata": {},
   "outputs": [
    {
     "data": {
      "text/plain": [
       "0    19338\n",
       "4     6594\n",
       "1       11\n",
       "3        4\n",
       "2        3\n",
       "5        2\n",
       "Name: Segment K-means PCA, dtype: int64"
      ]
     },
     "execution_count": 34,
     "metadata": {},
     "output_type": "execute_result"
    }
   ],
   "source": [
    "df_combo['Segment K-means PCA'].value_counts()\n",
    "# This is improved over the original data but is still very heavily weighted into the 0 category."
   ]
  },
  {
   "cell_type": "markdown",
   "id": "46e4325c",
   "metadata": {},
   "source": [
    "## Plot Different Variables with Clusters\n",
    "<a id ='plvar'></a>"
   ]
  },
  {
   "cell_type": "code",
   "execution_count": 35,
   "id": "80791656",
   "metadata": {},
   "outputs": [
    {
     "data": {
      "image/png": "[encoded data removed]",
      "text/plain": [
       "<Figure size 864x576 with 1 Axes>"
      ]
     },
     "metadata": {
      "needs_background": "light"
     },
     "output_type": "display_data"
    }
   ],
   "source": [
    "#Plot Cases vs Deaths with clusters\n",
    "plt.figure(figsize = (12,8))\n",
    "ax = sns.scatterplot(x = df_combo['Cases'], y = df_combo['Deaths'], hue = kmeans2.labels_, s = 100)\n",
    "ax.grid(False)\n",
    "plt.xlabel('Cases')\n",
    "plt.ylabel('Deaths')\n",
    "plt.show()"
   ]
  },
  {
   "cell_type": "code",
   "execution_count": 36,
   "id": "4614cd97",
   "metadata": {},
   "outputs": [
    {
     "data": {
      "image/png": "[encoded data removed]",
      "text/plain": [
       "<Figure size 864x576 with 1 Axes>"
      ]
     },
     "metadata": {
      "needs_background": "light"
     },
     "output_type": "display_data"
    }
   ],
   "source": [
    "#Plot Susceptible vs Vaccianted with clusters\n",
    "plt.figure(figsize = (12,8))\n",
    "ax = sns.scatterplot(x = df_combo['Susceptible'], y = df_combo['Vaccinated'], hue = kmeans2.labels_, s = 100)\n",
    "ax.grid(False)\n",
    "plt.xlabel('Susceptible')\n",
    "plt.ylabel('Vaccianted')\n",
    "plt.show()"
   ]
  },
  {
   "cell_type": "code",
   "execution_count": 37,
   "id": "982c957d",
   "metadata": {},
   "outputs": [
    {
     "data": {
      "image/png": "[encoded data removed]",
      "text/plain": [
       "<Figure size 864x576 with 1 Axes>"
      ]
     },
     "metadata": {
      "needs_background": "light"
     },
     "output_type": "display_data"
    }
   ],
   "source": [
    "#Plot Cases vs Susceptible with clusters\n",
    "plt.figure(figsize = (12,8))\n",
    "ax = sns.scatterplot(x = df_combo['Cases'], y = df_combo['Susceptible'], hue = kmeans2.labels_, s = 100)\n",
    "ax.grid(False)\n",
    "plt.xlabel('Cases')\n",
    "plt.ylabel('Susceptible')\n",
    "plt.show()"
   ]
  },
  {
   "cell_type": "code",
   "execution_count": 38,
   "id": "0f631cd2",
   "metadata": {},
   "outputs": [
    {
     "data": {
      "image/png": "[encoded data removed]",
      "text/plain": [
       "<Figure size 864x576 with 1 Axes>"
      ]
     },
     "metadata": {
      "needs_background": "light"
     },
     "output_type": "display_data"
    }
   ],
   "source": [
    "#Plot Cases vs Killed with clusters\n",
    "plt.figure(figsize = (12,8))\n",
    "ax = sns.scatterplot(x = df_combo['Cases'], y = df_combo['Killed'], hue = kmeans2.labels_, s = 100)\n",
    "ax.grid(False)\n",
    "plt.xlabel('Cases')\n",
    "plt.ylabel('Killed')\n",
    "plt.show()"
   ]
  },
  {
   "cell_type": "code",
   "execution_count": 39,
   "id": "a18686f8",
   "metadata": {},
   "outputs": [
    {
     "data": {
      "image/png": "[encoded data removed]",
      "text/plain": [
       "<Figure size 864x576 with 1 Axes>"
      ]
     },
     "metadata": {
      "needs_background": "light"
     },
     "output_type": "display_data"
    }
   ],
   "source": [
    "# Plot Cases vs Vaccinated with clusters\n",
    "plt.figure(figsize = (12,8))\n",
    "ax = sns.scatterplot(x = df_combo['Cases'], y = df_combo['Vaccinated'], hue = kmeans2.labels_, s = 100)\n",
    "ax.grid(False)\n",
    "plt.xlabel('Cases')\n",
    "plt.ylabel('Vaccianted')\n",
    "plt.show()"
   ]
  },
  {
   "cell_type": "code",
   "execution_count": 45,
   "id": "22717663",
   "metadata": {},
   "outputs": [
    {
     "data": {
      "image/png": "[encoded data removed]",
      "text/plain": [
       "<Figure size 864x576 with 1 Axes>"
      ]
     },
     "metadata": {
      "needs_background": "light"
     },
     "output_type": "display_data"
    }
   ],
   "source": [
    "# Plot Killed vs Susceptible with clusters\n",
    "plt.figure(figsize = (12,8))\n",
    "ax = sns.scatterplot(x = df_combo['Killed'], y = df_combo['Susceptible'], hue = kmeans2.labels_, s = 100)\n",
    "ax.grid(False)\n",
    "plt.xlabel('Killed')\n",
    "plt.ylabel('Susceptible')\n",
    "plt.show()"
   ]
  },
  {
   "cell_type": "markdown",
   "id": "87329ed2",
   "metadata": {},
   "source": [
    "### There are some obvious clusters in the Susceptible vs Vaccinated plot (even though linear regression did not show any correlation between the two).  The other plots are not providing new information for interpretation based on clustering."
   ]
  },
  {
   "cell_type": "markdown",
   "id": "da253329",
   "metadata": {},
   "source": [
    "## Analyze Clusters\n",
    "<a id='anclu'></a>"
   ]
  },
  {
   "cell_type": "code",
   "execution_count": 40,
   "id": "8fdff26c",
   "metadata": {},
   "outputs": [],
   "source": [
    "#Rename the clusters by color\n",
    "df_combo.loc[df_combo['Segment K-means PCA'] == 0, 'cluster'] = 'Pale pink'\n",
    "df_combo.loc[df_combo['Segment K-means PCA'] == 1, 'cluster'] = 'Light pink'\n",
    "df_combo.loc[df_combo['Segment K-means PCA'] == 2, 'cluster'] = 'Pink'\n",
    "df_combo.loc[df_combo['Segment K-means PCA'] == 3, 'cluster'] = 'Purple'\n",
    "df_combo.loc[df_combo['Segment K-means PCA'] == 4, 'cluster'] = 'Medium Purple'\n",
    "df_combo.loc[df_combo['Segment K-means PCA'] == 5, 'cluster'] = 'Dark Purple'"
   ]
  },
  {
   "cell_type": "code",
   "execution_count": 43,
   "id": "5ed1c8cd",
   "metadata": {},
   "outputs": [
    {
     "data": {
      "text/plain": [
       "Pale pink        19338\n",
       "Medium Purple     6594\n",
       "Light pink          11\n",
       "Purple               4\n",
       "Pink                 3\n",
       "Dark Purple          2\n",
       "Name: cluster, dtype: int64"
      ]
     },
     "execution_count": 43,
     "metadata": {},
     "output_type": "execute_result"
    }
   ],
   "source": [
    "df_combo['cluster'].value_counts()"
   ]
  },
  {
   "cell_type": "code",
   "execution_count": 42,
   "id": "6db3f2f2",
   "metadata": {},
   "outputs": [
    {
     "data": {
      "text/html": [
       "<div>\n",
       "<style scoped>\n",
       "    .dataframe tbody tr th:only-of-type {\n",
       "        vertical-align: middle;\n",
       "    }\n",
       "\n",
       "    .dataframe tbody tr th {\n",
       "        vertical-align: top;\n",
       "    }\n",
       "\n",
       "    .dataframe thead tr th {\n",
       "        text-align: left;\n",
       "    }\n",
       "\n",
       "    .dataframe thead tr:last-of-type th {\n",
       "        text-align: right;\n",
       "    }\n",
       "</style>\n",
       "<table border=\"1\" class=\"dataframe\">\n",
       "  <thead>\n",
       "    <tr>\n",
       "      <th></th>\n",
       "      <th colspan=\"2\" halign=\"left\">Susceptible</th>\n",
       "      <th colspan=\"2\" halign=\"left\">Cases</th>\n",
       "      <th colspan=\"2\" halign=\"left\">Killed</th>\n",
       "      <th colspan=\"2\" halign=\"left\">Slaughtered</th>\n",
       "      <th colspan=\"2\" halign=\"left\">Deaths</th>\n",
       "      <th colspan=\"2\" halign=\"left\">Vaccinated</th>\n",
       "    </tr>\n",
       "    <tr>\n",
       "      <th></th>\n",
       "      <th>mean</th>\n",
       "      <th>median</th>\n",
       "      <th>mean</th>\n",
       "      <th>median</th>\n",
       "      <th>mean</th>\n",
       "      <th>median</th>\n",
       "      <th>mean</th>\n",
       "      <th>median</th>\n",
       "      <th>mean</th>\n",
       "      <th>median</th>\n",
       "      <th>mean</th>\n",
       "      <th>median</th>\n",
       "    </tr>\n",
       "    <tr>\n",
       "      <th>cluster</th>\n",
       "      <th></th>\n",
       "      <th></th>\n",
       "      <th></th>\n",
       "      <th></th>\n",
       "      <th></th>\n",
       "      <th></th>\n",
       "      <th></th>\n",
       "      <th></th>\n",
       "      <th></th>\n",
       "      <th></th>\n",
       "      <th></th>\n",
       "      <th></th>\n",
       "    </tr>\n",
       "  </thead>\n",
       "  <tbody>\n",
       "    <tr>\n",
       "      <th>Dark Purple</th>\n",
       "      <td>5.621500e+04</td>\n",
       "      <td>56215.0</td>\n",
       "      <td>218.500000</td>\n",
       "      <td>218.5</td>\n",
       "      <td>0.000000</td>\n",
       "      <td>0.0</td>\n",
       "      <td>0.000000</td>\n",
       "      <td>0.0</td>\n",
       "      <td>218.500000</td>\n",
       "      <td>218.5</td>\n",
       "      <td>4.114305e+07</td>\n",
       "      <td>41143049.0</td>\n",
       "    </tr>\n",
       "    <tr>\n",
       "      <th>Light pink</th>\n",
       "      <td>6.920901e+06</td>\n",
       "      <td>8493952.0</td>\n",
       "      <td>263.363636</td>\n",
       "      <td>305.0</td>\n",
       "      <td>931.272727</td>\n",
       "      <td>599.0</td>\n",
       "      <td>0.000000</td>\n",
       "      <td>0.0</td>\n",
       "      <td>253.181818</td>\n",
       "      <td>305.0</td>\n",
       "      <td>1.374027e+06</td>\n",
       "      <td>1461683.0</td>\n",
       "    </tr>\n",
       "    <tr>\n",
       "      <th>Medium Purple</th>\n",
       "      <td>9.315757e+01</td>\n",
       "      <td>0.0</td>\n",
       "      <td>9.503640</td>\n",
       "      <td>3.0</td>\n",
       "      <td>0.976645</td>\n",
       "      <td>0.0</td>\n",
       "      <td>0.140734</td>\n",
       "      <td>0.0</td>\n",
       "      <td>8.194116</td>\n",
       "      <td>3.0</td>\n",
       "      <td>1.832357e+02</td>\n",
       "      <td>0.0</td>\n",
       "    </tr>\n",
       "    <tr>\n",
       "      <th>Pale pink</th>\n",
       "      <td>1.154706e+03</td>\n",
       "      <td>2.0</td>\n",
       "      <td>6.178664</td>\n",
       "      <td>2.0</td>\n",
       "      <td>2.234874</td>\n",
       "      <td>0.0</td>\n",
       "      <td>0.046385</td>\n",
       "      <td>0.0</td>\n",
       "      <td>4.656893</td>\n",
       "      <td>1.0</td>\n",
       "      <td>5.600583e+02</td>\n",
       "      <td>0.0</td>\n",
       "    </tr>\n",
       "    <tr>\n",
       "      <th>Pink</th>\n",
       "      <td>0.000000e+00</td>\n",
       "      <td>0.0</td>\n",
       "      <td>2467.666667</td>\n",
       "      <td>2548.0</td>\n",
       "      <td>0.000000</td>\n",
       "      <td>0.0</td>\n",
       "      <td>0.000000</td>\n",
       "      <td>0.0</td>\n",
       "      <td>2467.666667</td>\n",
       "      <td>2548.0</td>\n",
       "      <td>6.225333e+03</td>\n",
       "      <td>1853.0</td>\n",
       "    </tr>\n",
       "    <tr>\n",
       "      <th>Purple</th>\n",
       "      <td>6.345500e+03</td>\n",
       "      <td>3405.0</td>\n",
       "      <td>90.500000</td>\n",
       "      <td>4.0</td>\n",
       "      <td>147.500000</td>\n",
       "      <td>123.5</td>\n",
       "      <td>424.750000</td>\n",
       "      <td>314.5</td>\n",
       "      <td>7.000000</td>\n",
       "      <td>1.5</td>\n",
       "      <td>8.390750e+03</td>\n",
       "      <td>3356.5</td>\n",
       "    </tr>\n",
       "  </tbody>\n",
       "</table>\n",
       "</div>"
      ],
      "text/plain": [
       "                Susceptible                   Cases              Killed  \\\n",
       "                       mean     median         mean  median        mean   \n",
       "cluster                                                                   \n",
       "Dark Purple    5.621500e+04    56215.0   218.500000   218.5    0.000000   \n",
       "Light pink     6.920901e+06  8493952.0   263.363636   305.0  931.272727   \n",
       "Medium Purple  9.315757e+01        0.0     9.503640     3.0    0.976645   \n",
       "Pale pink      1.154706e+03        2.0     6.178664     2.0    2.234874   \n",
       "Pink           0.000000e+00        0.0  2467.666667  2548.0    0.000000   \n",
       "Purple         6.345500e+03     3405.0    90.500000     4.0  147.500000   \n",
       "\n",
       "                     Slaughtered              Deaths            Vaccinated  \\\n",
       "              median        mean median         mean  median          mean   \n",
       "cluster                                                                      \n",
       "Dark Purple      0.0    0.000000    0.0   218.500000   218.5  4.114305e+07   \n",
       "Light pink     599.0    0.000000    0.0   253.181818   305.0  1.374027e+06   \n",
       "Medium Purple    0.0    0.140734    0.0     8.194116     3.0  1.832357e+02   \n",
       "Pale pink        0.0    0.046385    0.0     4.656893     1.0  5.600583e+02   \n",
       "Pink             0.0    0.000000    0.0  2467.666667  2548.0  6.225333e+03   \n",
       "Purple         123.5  424.750000  314.5     7.000000     1.5  8.390750e+03   \n",
       "\n",
       "                           \n",
       "                   median  \n",
       "cluster                    \n",
       "Dark Purple    41143049.0  \n",
       "Light pink      1461683.0  \n",
       "Medium Purple         0.0  \n",
       "Pale pink             0.0  \n",
       "Pink               1853.0  \n",
       "Purple             3356.5  "
      ]
     },
     "execution_count": 42,
     "metadata": {},
     "output_type": "execute_result"
    }
   ],
   "source": [
    "# Create descriptive statistics grouped by the clusters\n",
    "df_combo.groupby('cluster').agg({'Susceptible':['mean', 'median'], 'Cases':['mean', 'median'], \n",
    "                                             'Killed':['mean', 'median'], 'Slaughtered':['mean', 'median'],\n",
    "                                            'Deaths': ['mean', 'median'], 'Vaccinated': ['mean', 'median']})"
   ]
  },
  {
   "cell_type": "markdown",
   "id": "9d026680",
   "metadata": {},
   "source": [
    "### The pale pink cluster holds the most data points and it appears to be in the middle for all values.  Light pink cluster has the highest Susceptible and Killed numbers.  Pink has the most Cases and Deaths.  Purple has the most Slaughtered. Dark purple cluster has the most Vaccinated.  Overall I feel the data needs to be looked at in other ways to get more information out of it.  Clustering may not be the best way to view this type of data.  I'm still looking for changes over time."
   ]
  },
  {
   "cell_type": "code",
   "execution_count": null,
   "id": "cb9271b1",
   "metadata": {},
   "outputs": [],
   "source": []
  }
 ],
 "metadata": {
  "kernelspec": {
   "display_name": "Python 3 (ipykernel)",
   "language": "python",
   "name": "python3"
  },
  "language_info": {
   "codemirror_mode": {
    "name": "ipython",
    "version": 3
   },
   "file_extension": ".py",
   "mimetype": "text/x-python",
   "name": "python",
   "nbconvert_exporter": "python",
   "pygments_lexer": "ipython3",
   "version": "3.9.12"
  }
 },
 "nbformat": 4,
 "nbformat_minor": 5
}
